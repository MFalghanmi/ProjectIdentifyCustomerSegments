{
 "cells": [
  {
   "cell_type": "markdown",
   "metadata": {},
   "source": [
    "# Project: Identify Customer Segments\n",
    "\n",
    "In this project, you will apply unsupervised learning techniques to identify segments of the population that form the core customer base for a mail-order sales company in Germany. These segments can then be used to direct marketing campaigns towards audiences that will have the highest expected rate of returns. The data that you will use has been provided by our partners at Bertelsmann Arvato Analytics, and represents a real-life data science task.\n",
    "\n",
    "This notebook will help you complete this task by providing a framework within which you will perform your analysis steps. In each step of the project, you will see some text describing the subtask that you will perform, followed by one or more code cells for you to complete your work. **Feel free to add additional code and markdown cells as you go along so that you can explore everything in precise chunks.** The code cells provided in the base template will outline only the major tasks, and will usually not be enough to cover all of the minor tasks that comprise it.\n",
    "\n",
    "It should be noted that while there will be precise guidelines on how you should handle certain tasks in the project, there will also be places where an exact specification is not provided. **There will be times in the project where you will need to make and justify your own decisions on how to treat the data.** These are places where there may not be only one way to handle the data. In real-life tasks, there may be many valid ways to approach an analysis task. One of the most important things you can do is clearly document your approach so that other scientists can understand the decisions you've made.\n",
    "\n",
    "At the end of most sections, there will be a Markdown cell labeled **Discussion**. In these cells, you will report your findings for the completed section, as well as document the decisions that you made in your approach to each subtask. **Your project will be evaluated not just on the code used to complete the tasks outlined, but also your communication about your observations and conclusions at each stage.**"
   ]
  },
  {
   "cell_type": "code",
   "execution_count": 4,
   "metadata": {},
   "outputs": [
    {
     "data": {
      "text/plain": [
       "'\\nImport note: The classroom currently uses sklearn version 0.19.\\nIf you need to use an imputer, it is available in sklearn.preprocessing.Imputer,\\ninstead of sklearn.impute as in newer versions of sklearn.\\n'"
      ]
     },
     "execution_count": 4,
     "metadata": {},
     "output_type": "execute_result"
    }
   ],
   "source": [
    "# import libraries here; add more as necessary\n",
    "import numpy as np\n",
    "import pandas as pd\n",
    "import matplotlib.pyplot as plt\n",
    "import seaborn as sns\n",
    "\n",
    "# magic word for producing visualizations in notebook\n",
    "%matplotlib inline\n",
    "\n",
    "'''\n",
    "Import note: The classroom currently uses sklearn version 0.19.\n",
    "If you need to use an imputer, it is available in sklearn.preprocessing.Imputer,\n",
    "instead of sklearn.impute as in newer versions of sklearn.\n",
    "'''"
   ]
  },
  {
   "cell_type": "markdown",
   "metadata": {},
   "source": [
    "### Step 0: Load the Data\n",
    "\n",
    "There are four files associated with this project (not including this one):\n",
    "\n",
    "- `Udacity_AZDIAS_Subset.csv`: Demographics data for the general population of Germany; 891211 persons (rows) x 85 features (columns).\n",
    "- `Udacity_CUSTOMERS_Subset.csv`: Demographics data for customers of a mail-order company; 191652 persons (rows) x 85 features (columns).\n",
    "- `Data_Dictionary.md`: Detailed information file about the features in the provided datasets.\n",
    "- `AZDIAS_Feature_Summary.csv`: Summary of feature attributes for demographics data; 85 features (rows) x 4 columns\n",
    "\n",
    "Each row of the demographics files represents a single person, but also includes information outside of individuals, including information about their household, building, and neighborhood. You will use this information to cluster the general population into groups with similar demographic properties. Then, you will see how the people in the customers dataset fit into those created clusters. The hope here is that certain clusters are over-represented in the customers data, as compared to the general population; those over-represented clusters will be assumed to be part of the core userbase. This information can then be used for further applications, such as targeting for a marketing campaign.\n",
    "\n",
    "To start off with, load in the demographics data for the general population into a pandas DataFrame, and do the same for the feature attributes summary. Note for all of the `.csv` data files in this project: they're semicolon (`;`) delimited, so you'll need an additional argument in your [`read_csv()`](https://pandas.pydata.org/pandas-docs/stable/generated/pandas.read_csv.html) call to read in the data properly. Also, considering the size of the main dataset, it may take some time for it to load completely.\n",
    "\n",
    "Once the dataset is loaded, it's recommended that you take a little bit of time just browsing the general structure of the dataset and feature summary file. You'll be getting deep into the innards of the cleaning in the first major step of the project, so gaining some general familiarity can help you get your bearings."
   ]
  },
  {
   "cell_type": "code",
   "execution_count": 5,
   "metadata": {},
   "outputs": [],
   "source": [
    "# Load in the general demographics data.\n",
    "azdias = pd.read_csv('Udacity_AZDIAS_Subset.csv', sep =';')\n",
    "\n",
    "# Load in the feature summary file.\n",
    "feat_info = pd.read_csv('AZDIAS_Feature_Summary.csv', sep = ';')"
   ]
  },
  {
   "cell_type": "code",
   "execution_count": 6,
   "metadata": {},
   "outputs": [
    {
     "data": {
      "text/plain": [
       "AGER_TYP                     0\n",
       "ALTERSKATEGORIE_GROB         0\n",
       "ANREDE_KZ                    0\n",
       "CJT_GESAMTTYP             4854\n",
       "FINANZ_MINIMALIST            0\n",
       "                         ...  \n",
       "PLZ8_HHZ                116515\n",
       "PLZ8_GBZ                116515\n",
       "ARBEIT                   97216\n",
       "ORTSGR_KLS9              97216\n",
       "RELAT_AB                 97216\n",
       "Length: 85, dtype: int64"
      ]
     },
     "execution_count": 6,
     "metadata": {},
     "output_type": "execute_result"
    }
   ],
   "source": [
    "# Check the structure of the data after it's loaded (e.g. print the number of\n",
    "# rows and columns, print the first few rows).\n",
    "#azdias.info()\n",
    "azdias.isnull().sum()"
   ]
  },
  {
   "cell_type": "markdown",
   "metadata": {},
   "source": [
    "> **Tip**: Add additional cells to keep everything in reasonably-sized chunks! Keyboard shortcut `esc --> a` (press escape to enter command mode, then press the 'A' key) adds a new cell before the active cell, and `esc --> b` adds a new cell after the active cell. If you need to convert an active cell to a markdown cell, use `esc --> m` and to convert to a code cell, use `esc --> y`. \n",
    "\n",
    "## Step 1: Preprocessing\n",
    "\n",
    "### Step 1.1: Assess Missing Data\n",
    "\n",
    "The feature summary file contains a summary of properties for each demographics data column. You will use this file to help you make cleaning decisions during this stage of the project. First of all, you should assess the demographics data in terms of missing data. Pay attention to the following points as you perform your analysis, and take notes on what you observe. Make sure that you fill in the **Discussion** cell with your findings and decisions at the end of each step that has one!\n",
    "\n",
    "#### Step 1.1.1: Convert Missing Value Codes to NaNs\n",
    "The fourth column of the feature attributes summary (loaded in above as `feat_info`) documents the codes from the data dictionary that indicate missing or unknown data. While the file encodes this as a list (e.g. `[-1,0]`), this will get read in as a string object. You'll need to do a little bit of parsing to make use of it to identify and clean the data. Convert data that matches a 'missing' or 'unknown' value code into a numpy NaN value. You might want to see how much data takes on a 'missing' or 'unknown' code, and how much data is naturally missing, as a point of interest.\n",
    "\n",
    "**As one more reminder, you are encouraged to add additional cells to break up your analysis into manageable chunks.**"
   ]
  },
  {
   "cell_type": "code",
   "execution_count": 7,
   "metadata": {},
   "outputs": [
    {
     "data": {
      "text/html": [
       "<div>\n",
       "<style scoped>\n",
       "    .dataframe tbody tr th:only-of-type {\n",
       "        vertical-align: middle;\n",
       "    }\n",
       "\n",
       "    .dataframe tbody tr th {\n",
       "        vertical-align: top;\n",
       "    }\n",
       "\n",
       "    .dataframe thead th {\n",
       "        text-align: right;\n",
       "    }\n",
       "</style>\n",
       "<table border=\"1\" class=\"dataframe\">\n",
       "  <thead>\n",
       "    <tr style=\"text-align: right;\">\n",
       "      <th></th>\n",
       "      <th>attribute</th>\n",
       "      <th>information_level</th>\n",
       "      <th>type</th>\n",
       "      <th>missing_or_unknown</th>\n",
       "    </tr>\n",
       "  </thead>\n",
       "  <tbody>\n",
       "    <tr>\n",
       "      <th>0</th>\n",
       "      <td>AGER_TYP</td>\n",
       "      <td>person</td>\n",
       "      <td>categorical</td>\n",
       "      <td>[-1,0]</td>\n",
       "    </tr>\n",
       "    <tr>\n",
       "      <th>1</th>\n",
       "      <td>ALTERSKATEGORIE_GROB</td>\n",
       "      <td>person</td>\n",
       "      <td>ordinal</td>\n",
       "      <td>[-1,0,9]</td>\n",
       "    </tr>\n",
       "    <tr>\n",
       "      <th>2</th>\n",
       "      <td>ANREDE_KZ</td>\n",
       "      <td>person</td>\n",
       "      <td>categorical</td>\n",
       "      <td>[-1,0]</td>\n",
       "    </tr>\n",
       "    <tr>\n",
       "      <th>3</th>\n",
       "      <td>CJT_GESAMTTYP</td>\n",
       "      <td>person</td>\n",
       "      <td>categorical</td>\n",
       "      <td>[0]</td>\n",
       "    </tr>\n",
       "    <tr>\n",
       "      <th>4</th>\n",
       "      <td>FINANZ_MINIMALIST</td>\n",
       "      <td>person</td>\n",
       "      <td>ordinal</td>\n",
       "      <td>[-1]</td>\n",
       "    </tr>\n",
       "    <tr>\n",
       "      <th>5</th>\n",
       "      <td>FINANZ_SPARER</td>\n",
       "      <td>person</td>\n",
       "      <td>ordinal</td>\n",
       "      <td>[-1]</td>\n",
       "    </tr>\n",
       "    <tr>\n",
       "      <th>6</th>\n",
       "      <td>FINANZ_VORSORGER</td>\n",
       "      <td>person</td>\n",
       "      <td>ordinal</td>\n",
       "      <td>[-1]</td>\n",
       "    </tr>\n",
       "    <tr>\n",
       "      <th>7</th>\n",
       "      <td>FINANZ_ANLEGER</td>\n",
       "      <td>person</td>\n",
       "      <td>ordinal</td>\n",
       "      <td>[-1]</td>\n",
       "    </tr>\n",
       "    <tr>\n",
       "      <th>8</th>\n",
       "      <td>FINANZ_UNAUFFAELLIGER</td>\n",
       "      <td>person</td>\n",
       "      <td>ordinal</td>\n",
       "      <td>[-1]</td>\n",
       "    </tr>\n",
       "    <tr>\n",
       "      <th>9</th>\n",
       "      <td>FINANZ_HAUSBAUER</td>\n",
       "      <td>person</td>\n",
       "      <td>ordinal</td>\n",
       "      <td>[-1]</td>\n",
       "    </tr>\n",
       "  </tbody>\n",
       "</table>\n",
       "</div>"
      ],
      "text/plain": [
       "               attribute information_level         type missing_or_unknown\n",
       "0               AGER_TYP            person  categorical             [-1,0]\n",
       "1   ALTERSKATEGORIE_GROB            person      ordinal           [-1,0,9]\n",
       "2              ANREDE_KZ            person  categorical             [-1,0]\n",
       "3          CJT_GESAMTTYP            person  categorical                [0]\n",
       "4      FINANZ_MINIMALIST            person      ordinal               [-1]\n",
       "5          FINANZ_SPARER            person      ordinal               [-1]\n",
       "6       FINANZ_VORSORGER            person      ordinal               [-1]\n",
       "7         FINANZ_ANLEGER            person      ordinal               [-1]\n",
       "8  FINANZ_UNAUFFAELLIGER            person      ordinal               [-1]\n",
       "9       FINANZ_HAUSBAUER            person      ordinal               [-1]"
      ]
     },
     "execution_count": 7,
     "metadata": {},
     "output_type": "execute_result"
    }
   ],
   "source": [
    "feat_info.head(10)"
   ]
  },
  {
   "cell_type": "code",
   "execution_count": 8,
   "metadata": {
    "scrolled": false
   },
   "outputs": [],
   "source": [
    "# Identify missing or unknown data values and convert them to NaNs.\n",
    "\n",
    "# -1, 0, 1 & 9 were replaced with Nan\n",
    "columns = ['AGER_TYP',                \n",
    "'ALTERSKATEGORIE_GROB',    \n",
    "'ANREDE_KZ',               \n",
    "'CJT_GESAMTTYP',           \n",
    "'FINANZ_MINIMALIST',       \n",
    "'FINANZ_SPARER',           \n",
    "'FINANZ_VORSORGER',        \n",
    "'FINANZ_ANLEGER',          \n",
    "'FINANZ_UNAUFFAELLIGER',   \n",
    "'FINANZ_HAUSBAUER',        \n",
    "'FINANZTYP',               \n",
    "'GEBURTSJAHR',             \n",
    "'GFK_URLAUBERTYP',         \n",
    "'GREEN_AVANTGARDE',        \n",
    "'HEALTH_TYP',              \n",
    "'LP_LEBENSPHASE_FEIN',     \n",
    "'LP_LEBENSPHASE_GROB',     \n",
    "'LP_FAMILIE_FEIN',         \n",
    "'LP_FAMILIE_GROB',         \n",
    "'LP_STATUS_FEIN',          \n",
    "'LP_STATUS_GROB',          \n",
    "'NATIONALITAET_KZ',        \n",
    "'PRAEGENDE_JUGENDJAHRE',   \n",
    "'RETOURTYP_BK_S',          \n",
    "'SEMIO_SOZ',               \n",
    "'SEMIO_FAM',               \n",
    "'SEMIO_REL',               \n",
    "'SEMIO_MAT',               \n",
    "'SEMIO_VERT',              \n",
    "'SEMIO_LUST',              \n",
    "'SEMIO_ERL',               \n",
    "'SEMIO_KULT',              \n",
    "'SEMIO_RAT',               \n",
    "'SEMIO_KRIT',              \n",
    "'SEMIO_DOM',               \n",
    "'SEMIO_KAEM',              \n",
    "'SEMIO_PFLICHT',           \n",
    "'SEMIO_TRADV',             \n",
    "'SHOPPER_TYP',             \n",
    "'SOHO_KZ',                 \n",
    "'TITEL_KZ',                \n",
    "'VERS_TYP',                \n",
    "'ZABEOTYP',                \n",
    "'ALTER_HH',                \n",
    "'ANZ_PERSONEN',            \n",
    "'ANZ_TITEL',               \n",
    "'HH_EINKOMMEN_SCORE',      \n",
    "'KK_KUNDENTYP',            \n",
    "'W_KEIT_KIND_HH',          \n",
    "'WOHNDAUER_2008',          \n",
    "'ANZ_HAUSHALTE_AKTIV',     \n",
    "'ANZ_HH_TITEL',            \n",
    "'GEBAEUDETYP',             \n",
    "'KONSUMNAEHE',             \n",
    "'MIN_GEBAEUDEJAHR',        \n",
    "'OST_WEST_KZ',             \n",
    "'WOHNLAGE',                \n",
    "'CAMEO_DEUG_2015',         \n",
    "'CAMEO_DEU_2015',          \n",
    "'CAMEO_INTL_2015',         \n",
    "'KBA05_ANTG1',             \n",
    "'KBA05_ANTG2',             \n",
    "'KBA05_ANTG3',             \n",
    "'KBA05_ANTG4',             \n",
    "'KBA05_BAUMAX',            \n",
    "'KBA05_GBZ',              \n",
    "'BALLRAUM',                \n",
    "'EWDICHTE',                \n",
    "'INNENSTADT',              \n",
    "'GEBAEUDETYP_RASTER',      \n",
    "'KKK',                     \n",
    "'MOBI_REGIO',              \n",
    "'ONLINE_AFFINITAET',       \n",
    "'REGIOTYP',                \n",
    "'KBA13_ANZAHL_PKW',        \n",
    "'PLZ8_ANTG1',              \n",
    "'PLZ8_ANTG2',              \n",
    "'PLZ8_ANTG3',              \n",
    "'PLZ8_ANTG4',              \n",
    "'PLZ8_BAUMAX',             \n",
    "'PLZ8_HHZ',                \n",
    "'PLZ8_GBZ',                \n",
    "'ARBEIT',                  \n",
    "'ORTSGR_KLS9',             \n",
    "'RELAT_AB']\n",
    "\n",
    "azdias[columns] = azdias[columns].replace({0: np.nan, -1:np.nan, 1:np.nan, 9:np.nan })"
   ]
  },
  {
   "cell_type": "code",
   "execution_count": 9,
   "metadata": {},
   "outputs": [],
   "source": [
    "#azdias.isnull().values.any()"
   ]
  },
  {
   "cell_type": "markdown",
   "metadata": {},
   "source": [
    "#### Step 1.1.2: Assess Missing Data in Each Column\n",
    "\n",
    "How much missing data is present in each column? There are a few columns that are outliers in terms of the proportion of values that are missing. You will want to use matplotlib's [`hist()`](https://matplotlib.org/api/_as_gen/matplotlib.pyplot.hist.html) function to visualize the distribution of missing value counts to find these columns. Identify and document these columns. While some of these columns might have justifications for keeping or re-encoding the data, for this project you should just remove them from the dataframe. (Feel free to make remarks about these outlier columns in the discussion, however!)\n",
    "\n",
    "For the remaining features, are there any patterns in which columns have, or share, missing data?"
   ]
  },
  {
   "cell_type": "code",
   "execution_count": 53,
   "metadata": {},
   "outputs": [
    {
     "data": {
      "text/plain": [
       "CJT_GESAMTTYP            4854\n",
       "GFK_URLAUBERTYP          4854\n",
       "LP_LEBENSPHASE_FEIN      4854\n",
       "LP_LEBENSPHASE_GROB      4854\n",
       "LP_FAMILIE_FEIN          4854\n",
       "LP_FAMILIE_GROB          4854\n",
       "LP_STATUS_FEIN           4854\n",
       "LP_STATUS_GROB           4854\n",
       "RETOURTYP_BK_S           4854\n",
       "SOHO_KZ                 73499\n",
       "TITEL_KZ                73499\n",
       "ALTER_HH                73499\n",
       "ANZ_PERSONEN            73499\n",
       "ANZ_TITEL               73499\n",
       "HH_EINKOMMEN_SCORE      18348\n",
       "KK_KUNDENTYP           584612\n",
       "W_KEIT_KIND_HH         107602\n",
       "WOHNDAUER_2008          73499\n",
       "ANZ_HAUSHALTE_AKTIV     93148\n",
       "ANZ_HH_TITEL            97008\n",
       "GEBAEUDETYP             93148\n",
       "KONSUMNAEHE             73969\n",
       "MIN_GEBAEUDEJAHR        93148\n",
       "OST_WEST_KZ             93148\n",
       "WOHNLAGE                93148\n",
       "CAMEO_DEUG_2015         98979\n",
       "CAMEO_DEU_2015          98979\n",
       "CAMEO_INTL_2015         98979\n",
       "KBA05_ANTG1            133324\n",
       "KBA05_ANTG2            133324\n",
       "KBA05_ANTG3            133324\n",
       "KBA05_ANTG4            133324\n",
       "KBA05_BAUMAX           133324\n",
       "KBA05_GBZ              133324\n",
       "BALLRAUM                93740\n",
       "EWDICHTE                93740\n",
       "INNENSTADT              93740\n",
       "GEBAEUDETYP_RASTER      93155\n",
       "KKK                    121196\n",
       "MOBI_REGIO             133324\n",
       "ONLINE_AFFINITAET        4854\n",
       "REGIOTYP               121196\n",
       "KBA13_ANZAHL_PKW       105800\n",
       "PLZ8_ANTG1             116515\n",
       "PLZ8_ANTG2             116515\n",
       "PLZ8_ANTG3             116515\n",
       "PLZ8_ANTG4             116515\n",
       "PLZ8_BAUMAX            116515\n",
       "PLZ8_HHZ               116515\n",
       "PLZ8_GBZ               116515\n",
       "ARBEIT                  97216\n",
       "ORTSGR_KLS9             97216\n",
       "RELAT_AB                97216\n",
       "dtype: int64"
      ]
     },
     "execution_count": 53,
     "metadata": {},
     "output_type": "execute_result"
    }
   ],
   "source": [
    "# Perform an assessment of how much missing data there is in each column of the\n",
    "# dataset.\n",
    "\n",
    "nan_data = azdias.isnull().sum()[azdias.isnull().sum() != 0]\n",
    "nan_data"
   ]
  },
  {
   "cell_type": "code",
   "execution_count": 54,
   "metadata": {},
   "outputs": [
    {
     "data": {
      "text/plain": [
       "{'total_nan': array([  4854,   4854,   4854,   4854,   4854,   4854,   4854,   4854,\n",
       "          4854,  73499,  73499,  73499,  73499,  73499,  18348, 584612,\n",
       "        107602,  73499,  93148,  97008,  93148,  73969,  93148,  93148,\n",
       "         93148,  98979,  98979,  98979, 133324, 133324, 133324, 133324,\n",
       "        133324, 133324,  93740,  93740,  93740,  93155, 121196, 133324,\n",
       "          4854, 121196, 105800, 116515, 116515, 116515, 116515, 116515,\n",
       "        116515, 116515,  97216,  97216,  97216], dtype=int64),\n",
       " 'percent': array([ 0.54464605,  0.54464605,  0.54464605,  0.54464605,  0.54464605,\n",
       "         0.54464605,  0.54464605,  0.54464605,  0.54464605,  8.24700046,\n",
       "         8.24700046,  8.24700046,  8.24700046,  8.24700046,  2.05874862,\n",
       "        65.59674873, 12.07354854,  8.24700046, 10.45172858, 10.88484226,\n",
       "        10.45172858,  8.2997371 , 10.45172858, 10.45172858, 10.45172858,\n",
       "        11.10599952, 11.10599952, 11.10599952, 14.95970135, 14.95970135,\n",
       "        14.95970135, 14.95970135, 14.95970135, 14.95970135, 10.51815431,\n",
       "        10.51815431, 10.51815431, 10.45251402, 13.59887166, 14.95970135,\n",
       "         0.54464605, 13.59887166, 11.87135402, 13.07363718, 13.07363718,\n",
       "        13.07363718, 13.07363718, 13.07363718, 13.07363718, 13.07363718,\n",
       "        10.90818102, 10.90818102, 10.90818102])}"
      ]
     },
     "execution_count": 54,
     "metadata": {},
     "output_type": "execute_result"
    }
   ],
   "source": [
    "nan_dic = {'total_nan':nan_data.values, \n",
    "           'percent':nan_data.values * 100 / azdias.shape[0]}\n",
    "nan_dic"
   ]
  },
  {
   "cell_type": "code",
   "execution_count": 55,
   "metadata": {},
   "outputs": [],
   "source": [
    "nan_df = pd.DataFrame(data = nan_dic, index = nan_data.index)\n",
    "nan_df.sort_values(by = 'percent', ascending = False, inplace = True)"
   ]
  },
  {
   "cell_type": "code",
   "execution_count": null,
   "metadata": {},
   "outputs": [],
   "source": [
    "nan_df"
   ]
  },
  {
   "cell_type": "code",
   "execution_count": 56,
   "metadata": {},
   "outputs": [
    {
     "data": {
      "text/html": [
       "<div>\n",
       "<style scoped>\n",
       "    .dataframe tbody tr th:only-of-type {\n",
       "        vertical-align: middle;\n",
       "    }\n",
       "\n",
       "    .dataframe tbody tr th {\n",
       "        vertical-align: top;\n",
       "    }\n",
       "\n",
       "    .dataframe thead th {\n",
       "        text-align: right;\n",
       "    }\n",
       "</style>\n",
       "<table border=\"1\" class=\"dataframe\">\n",
       "  <thead>\n",
       "    <tr style=\"text-align: right;\">\n",
       "      <th></th>\n",
       "      <th>total_nan</th>\n",
       "      <th>percent</th>\n",
       "    </tr>\n",
       "  </thead>\n",
       "  <tbody>\n",
       "    <tr>\n",
       "      <th>KK_KUNDENTYP</th>\n",
       "      <td>584612</td>\n",
       "      <td>65.596749</td>\n",
       "    </tr>\n",
       "    <tr>\n",
       "      <th>KBA05_BAUMAX</th>\n",
       "      <td>133324</td>\n",
       "      <td>14.959701</td>\n",
       "    </tr>\n",
       "    <tr>\n",
       "      <th>KBA05_ANTG4</th>\n",
       "      <td>133324</td>\n",
       "      <td>14.959701</td>\n",
       "    </tr>\n",
       "    <tr>\n",
       "      <th>KBA05_ANTG1</th>\n",
       "      <td>133324</td>\n",
       "      <td>14.959701</td>\n",
       "    </tr>\n",
       "    <tr>\n",
       "      <th>KBA05_ANTG2</th>\n",
       "      <td>133324</td>\n",
       "      <td>14.959701</td>\n",
       "    </tr>\n",
       "    <tr>\n",
       "      <th>KBA05_GBZ</th>\n",
       "      <td>133324</td>\n",
       "      <td>14.959701</td>\n",
       "    </tr>\n",
       "    <tr>\n",
       "      <th>MOBI_REGIO</th>\n",
       "      <td>133324</td>\n",
       "      <td>14.959701</td>\n",
       "    </tr>\n",
       "    <tr>\n",
       "      <th>KBA05_ANTG3</th>\n",
       "      <td>133324</td>\n",
       "      <td>14.959701</td>\n",
       "    </tr>\n",
       "    <tr>\n",
       "      <th>KKK</th>\n",
       "      <td>121196</td>\n",
       "      <td>13.598872</td>\n",
       "    </tr>\n",
       "    <tr>\n",
       "      <th>REGIOTYP</th>\n",
       "      <td>121196</td>\n",
       "      <td>13.598872</td>\n",
       "    </tr>\n",
       "  </tbody>\n",
       "</table>\n",
       "</div>"
      ],
      "text/plain": [
       "              total_nan    percent\n",
       "KK_KUNDENTYP     584612  65.596749\n",
       "KBA05_BAUMAX     133324  14.959701\n",
       "KBA05_ANTG4      133324  14.959701\n",
       "KBA05_ANTG1      133324  14.959701\n",
       "KBA05_ANTG2      133324  14.959701\n",
       "KBA05_GBZ        133324  14.959701\n",
       "MOBI_REGIO       133324  14.959701\n",
       "KBA05_ANTG3      133324  14.959701\n",
       "KKK              121196  13.598872\n",
       "REGIOTYP         121196  13.598872"
      ]
     },
     "execution_count": 56,
     "metadata": {},
     "output_type": "execute_result"
    }
   ],
   "source": [
    "nan_df.head(10)"
   ]
  },
  {
   "cell_type": "code",
   "execution_count": 10,
   "metadata": {
    "scrolled": true
   },
   "outputs": [
    {
     "data": {
      "image/png": "[encoded data removed]",
      "text/plain": [
       "<Figure size 2520x2520 with 81 Axes>"
      ]
     },
     "metadata": {
      "needs_background": "light"
     },
     "output_type": "display_data"
    }
   ],
   "source": [
    "azdias.hist(figsize = (35,35));"
   ]
  },
  {
   "cell_type": "code",
   "execution_count": 11,
   "metadata": {},
   "outputs": [
    {
     "data": {
      "text/plain": [
       "AGER_TYP                85.909668\n",
       "ALTERSKATEGORIE_GROB    16.355988\n",
       "ANREDE_KZ               47.790167\n",
       "CJT_GESAMTTYP           11.638303\n",
       "FINANZ_MINIMALIST       15.662445\n",
       "                          ...    \n",
       "PLZ8_HHZ                14.301728\n",
       "PLZ8_GBZ                17.629185\n",
       "ARBEIT                  17.295598\n",
       "ORTSGR_KLS9             25.778342\n",
       "RELAT_AB                26.960989\n",
       "Length: 85, dtype: float64"
      ]
     },
     "execution_count": 11,
     "metadata": {},
     "output_type": "execute_result"
    }
   ],
   "source": [
    "# Investigate patterns in the amount of missing data in each column.\n",
    "perc_missing_columns = (azdias.isnull().sum() / len(azdias)) * 100\n",
    "perc_missing_columns"
   ]
  },
  {
   "cell_type": "code",
   "execution_count": 12,
   "metadata": {},
   "outputs": [],
   "source": [
    "# Remove the outlier columns from the dataset. (You'll perform other data\n",
    "# engineering tasks such as re-encoding and imputation later.)\n",
    "\n",
    "#azdias = azdias.drop(azdias.loc[:, azdias.isnull().sum() / len(azdias) < 0.30], axis = 1)\n",
    "#azdias.info()\n",
    "##################################\n",
    "\n",
    "#col = nan_df.index\n",
    "#azdias = azdias.drop(columns = col)"
   ]
  },
  {
   "cell_type": "markdown",
   "metadata": {},
   "source": [
    "#### Discussion 1.1.2: Assess Missing Data in Each Column\n",
    "\n",
    "- “GREEN_AVANTGARDE”, \"GREEN_AVANTGARDE\" and “AGER_TYP” columns have a lot missing data. Then These columns maybe droped"
   ]
  },
  {
   "cell_type": "markdown",
   "metadata": {},
   "source": [
    "#### Step 1.1.3: Assess Missing Data in Each Row\n",
    "\n",
    "Now, you'll perform a similar assessment for the rows of the dataset. How much data is missing in each row? As with the columns, you should see some groups of points that have a very different numbers of missing values. Divide the data into two subsets: one for data points that are above some threshold for missing values, and a second subset for points below that threshold.\n",
    "\n",
    "In order to know what to do with the outlier rows, we should see if the distribution of data values on columns that are not missing data (or are missing very little data) are similar or different between the two groups. Select at least five of these columns and compare the distribution of values.\n",
    "- You can use seaborn's [`countplot()`](https://seaborn.pydata.org/generated/seaborn.countplot.html) function to create a bar chart of code frequencies and matplotlib's [`subplot()`](https://matplotlib.org/api/_as_gen/matplotlib.pyplot.subplot.html) function to put bar charts for the two subplots side by side.\n",
    "- To reduce repeated code, you might want to write a function that can perform this comparison, taking as one of its arguments a column to be compared.\n",
    "\n",
    "Depending on what you observe in your comparison, this will have implications on how you approach your conclusions later in the analysis. If the distributions of non-missing features look similar between the data with many missing values and the data with few or no missing values, then we could argue that simply dropping those points from the analysis won't present a major issue. On the other hand, if the data with many missing values looks very different from the data with few or no missing values, then we should make a note on those data as special. We'll revisit these data later on. **Either way, you should continue your analysis for now using just the subset of the data with few or no missing values.**"
   ]
  },
  {
   "cell_type": "code",
   "execution_count": 13,
   "metadata": {},
   "outputs": [
    {
     "data": {
      "text/plain": [
       "''"
      ]
     },
     "execution_count": 13,
     "metadata": {},
     "output_type": "execute_result"
    },
    {
     "data": {
      "image/png": "[encoded data removed]",
      "text/plain": [
       "<Figure size 1152x1152 with 1 Axes>"
      ]
     },
     "metadata": {
      "needs_background": "light"
     },
     "output_type": "display_data"
    }
   ],
   "source": [
    "# How much data is missing in each row of the dataset?\n",
    "plt.figure(figsize = (16,16))\n",
    "sns.countplot(x = azdias.isnull().sum(axis = 1), data = azdias)\n",
    "plt.ylabel('Number of Row')\n",
    "plt.xlabel('Number of Missing Values')\n",
    "plt.title('Missing Value Per Row')\n",
    ";"
   ]
  },
  {
   "cell_type": "code",
   "execution_count": 14,
   "metadata": {},
   "outputs": [
    {
     "data": {
      "text/plain": [
       "''"
      ]
     },
     "execution_count": 14,
     "metadata": {},
     "output_type": "execute_result"
    },
    {
     "data": {
      "image/png": "[encoded data removed]",
      "text/plain": [
       "<Figure size 1152x1152 with 1 Axes>"
      ]
     },
     "metadata": {
      "needs_background": "light"
     },
     "output_type": "display_data"
    }
   ],
   "source": [
    "plt.figure(figsize = (16,16))\n",
    "plt.hist(x = azdias.isnull().sum(axis = 1), bins = np.arange(0,45))\n",
    "plt.ylabel('Number of Row')\n",
    "plt.xlabel('Number of Missing Values')\n",
    "plt.title('Missing Value Per Row')\n",
    ";"
   ]
  },
  {
   "cell_type": "code",
   "execution_count": 15,
   "metadata": {},
   "outputs": [
    {
     "data": {
      "text/html": [
       "<div>\n",
       "<style scoped>\n",
       "    .dataframe tbody tr th:only-of-type {\n",
       "        vertical-align: middle;\n",
       "    }\n",
       "\n",
       "    .dataframe tbody tr th {\n",
       "        vertical-align: top;\n",
       "    }\n",
       "\n",
       "    .dataframe thead th {\n",
       "        text-align: right;\n",
       "    }\n",
       "</style>\n",
       "<table border=\"1\" class=\"dataframe\">\n",
       "  <thead>\n",
       "    <tr style=\"text-align: right;\">\n",
       "      <th></th>\n",
       "      <th>AGER_TYP</th>\n",
       "      <th>ALTERSKATEGORIE_GROB</th>\n",
       "      <th>ANREDE_KZ</th>\n",
       "      <th>CJT_GESAMTTYP</th>\n",
       "      <th>FINANZ_MINIMALIST</th>\n",
       "      <th>FINANZ_SPARER</th>\n",
       "      <th>FINANZ_VORSORGER</th>\n",
       "      <th>FINANZ_ANLEGER</th>\n",
       "      <th>FINANZ_UNAUFFAELLIGER</th>\n",
       "      <th>FINANZ_HAUSBAUER</th>\n",
       "      <th>...</th>\n",
       "      <th>PLZ8_ANTG2</th>\n",
       "      <th>PLZ8_ANTG3</th>\n",
       "      <th>PLZ8_ANTG4</th>\n",
       "      <th>PLZ8_BAUMAX</th>\n",
       "      <th>PLZ8_HHZ</th>\n",
       "      <th>PLZ8_GBZ</th>\n",
       "      <th>ARBEIT</th>\n",
       "      <th>ORTSGR_KLS9</th>\n",
       "      <th>RELAT_AB</th>\n",
       "      <th>Number_of_Nan</th>\n",
       "    </tr>\n",
       "  </thead>\n",
       "  <tbody>\n",
       "    <tr>\n",
       "      <th>0</th>\n",
       "      <td>NaN</td>\n",
       "      <td>2.0</td>\n",
       "      <td>NaN</td>\n",
       "      <td>2.0</td>\n",
       "      <td>3.0</td>\n",
       "      <td>4.0</td>\n",
       "      <td>3.0</td>\n",
       "      <td>5.0</td>\n",
       "      <td>5.0</td>\n",
       "      <td>3.0</td>\n",
       "      <td>...</td>\n",
       "      <td>NaN</td>\n",
       "      <td>NaN</td>\n",
       "      <td>NaN</td>\n",
       "      <td>NaN</td>\n",
       "      <td>NaN</td>\n",
       "      <td>NaN</td>\n",
       "      <td>NaN</td>\n",
       "      <td>NaN</td>\n",
       "      <td>NaN</td>\n",
       "      <td>55</td>\n",
       "    </tr>\n",
       "    <tr>\n",
       "      <th>1</th>\n",
       "      <td>NaN</td>\n",
       "      <td>NaN</td>\n",
       "      <td>2.0</td>\n",
       "      <td>5.0</td>\n",
       "      <td>NaN</td>\n",
       "      <td>5.0</td>\n",
       "      <td>2.0</td>\n",
       "      <td>5.0</td>\n",
       "      <td>4.0</td>\n",
       "      <td>5.0</td>\n",
       "      <td>...</td>\n",
       "      <td>3.0</td>\n",
       "      <td>2.0</td>\n",
       "      <td>NaN</td>\n",
       "      <td>NaN</td>\n",
       "      <td>5.0</td>\n",
       "      <td>4.0</td>\n",
       "      <td>3.0</td>\n",
       "      <td>5.0</td>\n",
       "      <td>4.0</td>\n",
       "      <td>24</td>\n",
       "    </tr>\n",
       "  </tbody>\n",
       "</table>\n",
       "<p>2 rows × 86 columns</p>\n",
       "</div>"
      ],
      "text/plain": [
       "   AGER_TYP  ALTERSKATEGORIE_GROB  ANREDE_KZ  CJT_GESAMTTYP  \\\n",
       "0       NaN                   2.0        NaN            2.0   \n",
       "1       NaN                   NaN        2.0            5.0   \n",
       "\n",
       "   FINANZ_MINIMALIST  FINANZ_SPARER  FINANZ_VORSORGER  FINANZ_ANLEGER  \\\n",
       "0                3.0            4.0               3.0             5.0   \n",
       "1                NaN            5.0               2.0             5.0   \n",
       "\n",
       "   FINANZ_UNAUFFAELLIGER  FINANZ_HAUSBAUER  ...  PLZ8_ANTG2  PLZ8_ANTG3  \\\n",
       "0                    5.0               3.0  ...         NaN         NaN   \n",
       "1                    4.0               5.0  ...         3.0         2.0   \n",
       "\n",
       "   PLZ8_ANTG4  PLZ8_BAUMAX  PLZ8_HHZ  PLZ8_GBZ  ARBEIT  ORTSGR_KLS9  RELAT_AB  \\\n",
       "0         NaN          NaN       NaN       NaN     NaN          NaN       NaN   \n",
       "1         NaN          NaN       5.0       4.0     3.0          5.0       4.0   \n",
       "\n",
       "   Number_of_Nan  \n",
       "0             55  \n",
       "1             24  \n",
       "\n",
       "[2 rows x 86 columns]"
      ]
     },
     "execution_count": 15,
     "metadata": {},
     "output_type": "execute_result"
    }
   ],
   "source": [
    "# for reference \n",
    "\n",
    "# Write code to divide the data into two subsets based on the number of missing # values in\n",
    "##each row. azdias_less_than_10 = azdias[azdias.isnull().sum(axis=1) <= 10]\n",
    "\n",
    "#azdias_more_than_10 = azdias[azdias.isnull().sum(axis=1) > 10]\n",
    "\n",
    "azdias['Number_of_Nan'] = azdias.apply(lambda  row: row.isnull().sum(), axis = 1)\n",
    "\n",
    "azdias.head(2)"
   ]
  },
  {
   "cell_type": "code",
   "execution_count": 16,
   "metadata": {},
   "outputs": [],
   "source": [
    "# Write code to divide the data into two subsets based on the number of missing\n",
    "# values in each row.\n",
    "\n",
    "azdias_great_than_10 = azdias[azdias['Number_of_Nan']> 30]\n",
    "azdias_less_than_10  = azdias[azdias['Number_of_Nan'] <= 30]\n"
   ]
  },
  {
   "cell_type": "code",
   "execution_count": 17,
   "metadata": {},
   "outputs": [
    {
     "data": {
      "text/html": [
       "<div>\n",
       "<style scoped>\n",
       "    .dataframe tbody tr th:only-of-type {\n",
       "        vertical-align: middle;\n",
       "    }\n",
       "\n",
       "    .dataframe tbody tr th {\n",
       "        vertical-align: top;\n",
       "    }\n",
       "\n",
       "    .dataframe thead th {\n",
       "        text-align: right;\n",
       "    }\n",
       "</style>\n",
       "<table border=\"1\" class=\"dataframe\">\n",
       "  <thead>\n",
       "    <tr style=\"text-align: right;\">\n",
       "      <th></th>\n",
       "      <th>AGER_TYP</th>\n",
       "      <th>ALTERSKATEGORIE_GROB</th>\n",
       "      <th>ANREDE_KZ</th>\n",
       "      <th>CJT_GESAMTTYP</th>\n",
       "      <th>FINANZ_MINIMALIST</th>\n",
       "      <th>FINANZ_SPARER</th>\n",
       "      <th>FINANZ_VORSORGER</th>\n",
       "      <th>FINANZ_ANLEGER</th>\n",
       "      <th>FINANZ_UNAUFFAELLIGER</th>\n",
       "      <th>FINANZ_HAUSBAUER</th>\n",
       "      <th>...</th>\n",
       "      <th>PLZ8_ANTG2</th>\n",
       "      <th>PLZ8_ANTG3</th>\n",
       "      <th>PLZ8_ANTG4</th>\n",
       "      <th>PLZ8_BAUMAX</th>\n",
       "      <th>PLZ8_HHZ</th>\n",
       "      <th>PLZ8_GBZ</th>\n",
       "      <th>ARBEIT</th>\n",
       "      <th>ORTSGR_KLS9</th>\n",
       "      <th>RELAT_AB</th>\n",
       "      <th>Number_of_Nan</th>\n",
       "    </tr>\n",
       "  </thead>\n",
       "  <tbody>\n",
       "    <tr>\n",
       "      <th>0</th>\n",
       "      <td>NaN</td>\n",
       "      <td>2.0</td>\n",
       "      <td>NaN</td>\n",
       "      <td>2.0</td>\n",
       "      <td>3.0</td>\n",
       "      <td>4.0</td>\n",
       "      <td>3.0</td>\n",
       "      <td>5.0</td>\n",
       "      <td>5.0</td>\n",
       "      <td>3.0</td>\n",
       "      <td>...</td>\n",
       "      <td>NaN</td>\n",
       "      <td>NaN</td>\n",
       "      <td>NaN</td>\n",
       "      <td>NaN</td>\n",
       "      <td>NaN</td>\n",
       "      <td>NaN</td>\n",
       "      <td>NaN</td>\n",
       "      <td>NaN</td>\n",
       "      <td>NaN</td>\n",
       "      <td>55</td>\n",
       "    </tr>\n",
       "    <tr>\n",
       "      <th>1</th>\n",
       "      <td>NaN</td>\n",
       "      <td>NaN</td>\n",
       "      <td>2.0</td>\n",
       "      <td>5.0</td>\n",
       "      <td>NaN</td>\n",
       "      <td>5.0</td>\n",
       "      <td>2.0</td>\n",
       "      <td>5.0</td>\n",
       "      <td>4.0</td>\n",
       "      <td>5.0</td>\n",
       "      <td>...</td>\n",
       "      <td>3.0</td>\n",
       "      <td>2.0</td>\n",
       "      <td>NaN</td>\n",
       "      <td>NaN</td>\n",
       "      <td>5.0</td>\n",
       "      <td>4.0</td>\n",
       "      <td>3.0</td>\n",
       "      <td>5.0</td>\n",
       "      <td>4.0</td>\n",
       "      <td>24</td>\n",
       "    </tr>\n",
       "  </tbody>\n",
       "</table>\n",
       "<p>2 rows × 86 columns</p>\n",
       "</div>"
      ],
      "text/plain": [
       "   AGER_TYP  ALTERSKATEGORIE_GROB  ANREDE_KZ  CJT_GESAMTTYP  \\\n",
       "0       NaN                   2.0        NaN            2.0   \n",
       "1       NaN                   NaN        2.0            5.0   \n",
       "\n",
       "   FINANZ_MINIMALIST  FINANZ_SPARER  FINANZ_VORSORGER  FINANZ_ANLEGER  \\\n",
       "0                3.0            4.0               3.0             5.0   \n",
       "1                NaN            5.0               2.0             5.0   \n",
       "\n",
       "   FINANZ_UNAUFFAELLIGER  FINANZ_HAUSBAUER  ...  PLZ8_ANTG2  PLZ8_ANTG3  \\\n",
       "0                    5.0               3.0  ...         NaN         NaN   \n",
       "1                    4.0               5.0  ...         3.0         2.0   \n",
       "\n",
       "   PLZ8_ANTG4  PLZ8_BAUMAX  PLZ8_HHZ  PLZ8_GBZ  ARBEIT  ORTSGR_KLS9  RELAT_AB  \\\n",
       "0         NaN          NaN       NaN       NaN     NaN          NaN       NaN   \n",
       "1         NaN          NaN       5.0       4.0     3.0          5.0       4.0   \n",
       "\n",
       "   Number_of_Nan  \n",
       "0             55  \n",
       "1             24  \n",
       "\n",
       "[2 rows x 86 columns]"
      ]
     },
     "execution_count": 17,
     "metadata": {},
     "output_type": "execute_result"
    }
   ],
   "source": [
    "azdias.head(2)"
   ]
  },
  {
   "cell_type": "code",
   "execution_count": 18,
   "metadata": {},
   "outputs": [
    {
     "data": {
      "text/html": [
       "<div>\n",
       "<style scoped>\n",
       "    .dataframe tbody tr th:only-of-type {\n",
       "        vertical-align: middle;\n",
       "    }\n",
       "\n",
       "    .dataframe tbody tr th {\n",
       "        vertical-align: top;\n",
       "    }\n",
       "\n",
       "    .dataframe thead th {\n",
       "        text-align: right;\n",
       "    }\n",
       "</style>\n",
       "<table border=\"1\" class=\"dataframe\">\n",
       "  <thead>\n",
       "    <tr style=\"text-align: right;\">\n",
       "      <th></th>\n",
       "      <th>attribute</th>\n",
       "      <th>information_level</th>\n",
       "      <th>type</th>\n",
       "      <th>missing_or_unknown</th>\n",
       "    </tr>\n",
       "  </thead>\n",
       "  <tbody>\n",
       "    <tr>\n",
       "      <th>0</th>\n",
       "      <td>AGER_TYP</td>\n",
       "      <td>person</td>\n",
       "      <td>categorical</td>\n",
       "      <td>[-1,0]</td>\n",
       "    </tr>\n",
       "  </tbody>\n",
       "</table>\n",
       "</div>"
      ],
      "text/plain": [
       "  attribute information_level         type missing_or_unknown\n",
       "0  AGER_TYP            person  categorical             [-1,0]"
      ]
     },
     "execution_count": 18,
     "metadata": {},
     "output_type": "execute_result"
    }
   ],
   "source": [
    "feat_info.head(1)"
   ]
  },
  {
   "cell_type": "code",
   "execution_count": 19,
   "metadata": {},
   "outputs": [],
   "source": [
    "colum_ = feat_info.attribute.copy() \n",
    "#print(clm)\n",
    "#['FINANZTYP','GREEN_AVANTGARDE','SEMIO_SOZ','SEMIO_FAM','SEMIO_REL','SEMIO_MAT']"
   ]
  },
  {
   "cell_type": "code",
   "execution_count": 20,
   "metadata": {},
   "outputs": [],
   "source": [
    "# Compare the  of values for at least five columns where there are\n",
    "# no or few missing values, between the two subsets.\n",
    "\n",
    "def p_compare(col_1, col_2, clm = ''): #, \n",
    "    fig = plt.figure(figsize = (14,4))\n",
    "    ax_1 = fig.add_subplot(1,2,1)\n",
    "    ax_1.title.set_text('Many Missing Rows')\n",
    "    #sns.countplot(azdias.isnull().sum(axis = 1))\n",
    "    #azdias_great_than_10\n",
    "    #azdias_great_than_10 = azdias[azdias.isnull().sum(axis = 1) > 30]\n",
    "    sns.countplot(x = clm, data = col_1)\n",
    "    #sns.countplot(data = col_1)\n",
    "\n",
    "    \n",
    "    \n",
    "    fig = plt.figure(figsize = (14,4))\n",
    "    ax_2 = fig.add_subplot(1,2,2)\n",
    "    ax_2.title.set_text('Few Missing Rows')\n",
    "    #sns.countplot(azdias.isnull().sum(axis = 1))\n",
    "    #azdias_less_than_10\n",
    "    #azdias_less_than_10 = azdias[azdias.isnull().sum(axis = 1) <= 30]\n",
    "    sns.countplot(x = clm, data = col_2)\n",
    "    #sns.countplot(data = col_2)\n",
    "\n",
    "    fig.suptitle('Compare Tow Datasets')\n",
    "    plt.show();"
   ]
  },
  {
   "cell_type": "code",
   "execution_count": 21,
   "metadata": {},
   "outputs": [
    {
     "data": {
      "image/png": "[encoded data removed]",
      "text/plain": [
       "<Figure size 1008x288 with 1 Axes>"
      ]
     },
     "metadata": {
      "needs_background": "light"
     },
     "output_type": "display_data"
    },
    {
     "data": {
      "image/png": "[encoded data removed]",
      "text/plain": [
       "<Figure size 1008x288 with 1 Axes>"
      ]
     },
     "metadata": {
      "needs_background": "light"
     },
     "output_type": "display_data"
    }
   ],
   "source": [
    "p_compare(azdias_great_than_10, azdias_less_than_10, colum_[2])"
   ]
  },
  {
   "cell_type": "code",
   "execution_count": 22,
   "metadata": {},
   "outputs": [
    {
     "data": {
      "image/png": "[encoded data removed]",
      "text/plain": [
       "<Figure size 1008x288 with 1 Axes>"
      ]
     },
     "metadata": {
      "needs_background": "light"
     },
     "output_type": "display_data"
    },
    {
     "data": {
      "image/png": "[encoded data removed]",
      "text/plain": [
       "<Figure size 1008x288 with 1 Axes>"
      ]
     },
     "metadata": {
      "needs_background": "light"
     },
     "output_type": "display_data"
    }
   ],
   "source": [
    "p_compare(azdias_great_than_10, azdias_less_than_10, colum_[3])"
   ]
  },
  {
   "cell_type": "code",
   "execution_count": 23,
   "metadata": {},
   "outputs": [
    {
     "data": {
      "image/png": "[encoded data removed]",
      "text/plain": [
       "<Figure size 1008x288 with 1 Axes>"
      ]
     },
     "metadata": {
      "needs_background": "light"
     },
     "output_type": "display_data"
    },
    {
     "data": {
      "image/png": "[encoded data removed]",
      "text/plain": [
       "<Figure size 1008x288 with 1 Axes>"
      ]
     },
     "metadata": {
      "needs_background": "light"
     },
     "output_type": "display_data"
    }
   ],
   "source": [
    "p_compare(azdias_great_than_10, azdias_less_than_10, colum_[4])"
   ]
  },
  {
   "cell_type": "markdown",
   "metadata": {},
   "source": [
    "#### Discussion 1.1.3: Assess Missing Data in Each Row\n",
    "\n",
    "There are some rows that has large number of missing values, whcih will lead to drop the rows"
   ]
  },
  {
   "cell_type": "markdown",
   "metadata": {},
   "source": [
    "### Step 1.2: Select and Re-Encode Features\n",
    "\n",
    "Checking for missing data isn't the only way in which you can prepare a dataset for analysis. Since the unsupervised learning techniques to be used will only work on data that is encoded numerically, you need to make a few encoding changes or additional assumptions to be able to make progress. In addition, while almost all of the values in the dataset are encoded using numbers, not all of them represent numeric values. Check the third column of the feature summary (`feat_info`) for a summary of types of measurement.\n",
    "- For numeric and interval data, these features can be kept without changes.\n",
    "- Most of the variables in the dataset are ordinal in nature. While ordinal values may technically be non-linear in spacing, make the simplifying assumption that the ordinal variables can be treated as being interval in nature (that is, kept without any changes).\n",
    "- Special handling may be necessary for the remaining two variable types: categorical, and 'mixed'.\n",
    "\n",
    "In the first two parts of this sub-step, you will perform an investigation of the categorical and mixed-type features and make a decision on each of them, whether you will keep, drop, or re-encode each. Then, in the last part, you will create a new data frame with only the selected and engineered columns.\n",
    "\n",
    "Data wrangling is often the trickiest part of the data analysis process, and there's a lot of it to be done here. But stick with it: once you're done with this step, you'll be ready to get to the machine learning parts of the project!"
   ]
  },
  {
   "cell_type": "code",
   "execution_count": 24,
   "metadata": {},
   "outputs": [
    {
     "data": {
      "text/plain": [
       "float64    81\n",
       "object      4\n",
       "int64       1\n",
       "dtype: int64"
      ]
     },
     "execution_count": 24,
     "metadata": {},
     "output_type": "execute_result"
    }
   ],
   "source": [
    "# How many features are there of each data type?\n",
    "azdias.dtypes.value_counts()"
   ]
  },
  {
   "cell_type": "markdown",
   "metadata": {},
   "source": [
    "- There are four columns that are categorical or mixed\n",
    "- The columns are CAMEO_DEUG_2015, CAMEO_DEU_2015, CAMEO_INTL_2015 , and OST_WEST_KZ"
   ]
  },
  {
   "cell_type": "markdown",
   "metadata": {},
   "source": [
    "#### Step 1.2.1: Re-Encode Categorical Features\n",
    "\n",
    "For categorical data, you would ordinarily need to encode the levels as dummy variables. Depending on the number of categories, perform one of the following:\n",
    "- For binary (two-level) categoricals that take numeric values, you can keep them without needing to do anything.\n",
    "- There is one binary variable that takes on non-numeric values. For this one, you need to re-encode the values as numbers or create a dummy variable.\n",
    "- For multi-level categoricals (three or more values), you can choose to encode the values using multiple dummy variables (e.g. via [OneHotEncoder](http://scikit-learn.org/stable/modules/generated/sklearn.preprocessing.OneHotEncoder.html)), or (to keep things straightforward) just drop them from the analysis. As always, document your choices in the Discussion section."
   ]
  },
  {
   "cell_type": "code",
   "execution_count": 25,
   "metadata": {},
   "outputs": [
    {
     "data": {
      "text/plain": [
       "8    134441\n",
       "9    108177\n",
       "6    105874\n",
       "4    103912\n",
       "3     86779\n",
       "2     83231\n",
       "7     77933\n",
       "5     55310\n",
       "1     36212\n",
       "X       373\n",
       "Name: CAMEO_DEUG_2015, dtype: int64"
      ]
     },
     "execution_count": 25,
     "metadata": {},
     "output_type": "execute_result"
    }
   ],
   "source": [
    "# Assess categorical variables: which are binary, which are multi-level, and\n",
    "# which one needs to be re-encoded?\n",
    "# 1\n",
    "azdias.CAMEO_DEUG_2015.value_counts()"
   ]
  },
  {
   "cell_type": "code",
   "execution_count": 26,
   "metadata": {},
   "outputs": [
    {
     "data": {
      "text/plain": [
       "6B    56672\n",
       "8A    52438\n",
       "4C    47819\n",
       "2D    35074\n",
       "3C    34769\n",
       "7A    34399\n",
       "3D    34307\n",
       "8B    33434\n",
       "4A    33155\n",
       "8C    30993\n",
       "9D    28593\n",
       "9B    27676\n",
       "9C    24987\n",
       "7B    24503\n",
       "9A    20542\n",
       "2C    19422\n",
       "8D    17576\n",
       "6E    16107\n",
       "2B    15486\n",
       "5D    14943\n",
       "6C    14820\n",
       "2A    13249\n",
       "5A    12214\n",
       "1D    11909\n",
       "1A    10850\n",
       "3A    10543\n",
       "5B    10354\n",
       "5C     9935\n",
       "7C     9065\n",
       "4B     9047\n",
       "4D     8570\n",
       "3B     7160\n",
       "6A     6810\n",
       "9E     6379\n",
       "6D     6073\n",
       "6F     5392\n",
       "7D     5333\n",
       "4E     5321\n",
       "1E     5065\n",
       "7E     4633\n",
       "1C     4317\n",
       "5F     4283\n",
       "1B     4071\n",
       "5E     3581\n",
       "XX      373\n",
       "Name: CAMEO_DEU_2015, dtype: int64"
      ]
     },
     "execution_count": 26,
     "metadata": {},
     "output_type": "execute_result"
    }
   ],
   "source": [
    "# 2\n",
    "azdias.CAMEO_DEU_2015.value_counts()"
   ]
  },
  {
   "cell_type": "code",
   "execution_count": 27,
   "metadata": {},
   "outputs": [
    {
     "data": {
      "text/plain": [
       "51    133694\n",
       "41     92336\n",
       "24     91158\n",
       "14     62884\n",
       "43     56672\n",
       "54     45391\n",
       "25     39628\n",
       "22     33155\n",
       "23     26750\n",
       "13     26336\n",
       "45     26132\n",
       "55     23955\n",
       "52     20542\n",
       "31     19024\n",
       "34     18524\n",
       "15     16974\n",
       "44     14820\n",
       "12     13249\n",
       "35     10356\n",
       "32     10354\n",
       "33      9935\n",
       "XX       373\n",
       "Name: CAMEO_INTL_2015, dtype: int64"
      ]
     },
     "execution_count": 27,
     "metadata": {},
     "output_type": "execute_result"
    }
   ],
   "source": [
    "# 3\n",
    "azdias.CAMEO_INTL_2015.value_counts()"
   ]
  },
  {
   "cell_type": "code",
   "execution_count": 28,
   "metadata": {},
   "outputs": [
    {
     "data": {
      "text/plain": [
       "W    629528\n",
       "O    168545\n",
       "Name: OST_WEST_KZ, dtype: int64"
      ]
     },
     "execution_count": 28,
     "metadata": {},
     "output_type": "execute_result"
    }
   ],
   "source": [
    "# 4\n",
    "azdias.OST_WEST_KZ.value_counts()"
   ]
  },
  {
   "cell_type": "code",
   "execution_count": 29,
   "metadata": {},
   "outputs": [],
   "source": [
    "# drop the columns\n",
    "azdias.drop(columns = 'CAMEO_DEU_2015', axis = 1 ,inplace = True)"
   ]
  },
  {
   "cell_type": "code",
   "execution_count": 30,
   "metadata": {},
   "outputs": [],
   "source": [
    "# Part I:  Re-encode categorical variable(s) to be kept in the analysis.\n",
    "#dummy = pd.get_dummies(azdias['OST_WEST_KZ']).rename(columns = lambda x: 'OST_WEST_KZ_' + str(x))\n",
    "#azdias = pd.concat([azdias, dummy], axis = 1)\n",
    "#azdias = azdias.drop('OST_WEST_KZ', axis = 1)\n",
    "\n",
    "# azdias.OST_WEST_KZ_O = azdias.OST_WEST_KZ_O.astype(np.float64)\n",
    "# azdias.OST_WEST_KZ_W = azdias.OST_WEST_KZ_W.astype(np.float64)\n",
    "\n",
    "azdias['OST_WEST_KZ'].replace(['W', 'O'], [1, 0], inplace=True)\n"
   ]
  },
  {
   "cell_type": "code",
   "execution_count": 31,
   "metadata": {},
   "outputs": [],
   "source": [
    "# Part II: Re-encode categorical variable(s) to be kept in the analysis. \n",
    "#upper class\n",
    "#-  2: upper middleclass\n",
    "#-  3: established middleclass\n",
    "#-  4: consumption-oriented middleclass\n",
    "#-  5: active middleclass\n",
    "#-  6: low-consumption middleclass\n",
    "#-  7: lower middleclass\n",
    "#-  8: working class\n",
    "#-  9: urban working class\n",
    "#-  X: unknown\n",
    "\n",
    "#dummy = pd.get_dummies(azdias['CAMEO_DEUG_2015']).rename(columns = lambda x: 'CAMEO_DEUG_2015' + str(x))\n",
    "#azdias = pd.concat([azdias, dummy], axis = 1)\n",
    "#azdias = azdias.drop('CAMEO_DEUG_2015', axis = 1)\n",
    "\n",
    "azdias['CAMEO_DEUG_2015'].replace([[2,3,4,6,],[6,7,8,9], [1, 0]], inplace = True)\n",
    "\n",
    "azdias.drop(azdias[azdias['CAMEO_DEUG_2015'] == 'X'].index, inplace = True)\n"
   ]
  },
  {
   "cell_type": "code",
   "execution_count": 32,
   "metadata": {},
   "outputs": [],
   "source": [
    "azdias.replace([np.inf, -np.inf], np.nan, inplace=True)\n",
    "\n",
    "azdias.fillna(999, inplace=True)"
   ]
  },
  {
   "cell_type": "code",
   "execution_count": 33,
   "metadata": {},
   "outputs": [
    {
     "data": {
      "text/plain": [
       "0"
      ]
     },
     "execution_count": 33,
     "metadata": {},
     "output_type": "execute_result"
    }
   ],
   "source": [
    "azdias.isnull().sum().sum()"
   ]
  },
  {
   "cell_type": "code",
   "execution_count": 34,
   "metadata": {},
   "outputs": [
    {
     "data": {
      "text/plain": [
       "float64    82\n",
       "object      2\n",
       "int64       1\n",
       "dtype: int64"
      ]
     },
     "execution_count": 34,
     "metadata": {},
     "output_type": "execute_result"
    }
   ],
   "source": [
    "azdias.dtypes.value_counts()"
   ]
  },
  {
   "cell_type": "code",
   "execution_count": 35,
   "metadata": {},
   "outputs": [
    {
     "name": "stdout",
     "output_type": "stream",
     "text": [
      "<class 'pandas.core.frame.DataFrame'>\n",
      "Int64Index: 890848 entries, 0 to 891220\n",
      "Data columns (total 85 columns):\n",
      " #   Column                 Non-Null Count   Dtype  \n",
      "---  ------                 --------------   -----  \n",
      " 0   AGER_TYP               890848 non-null  float64\n",
      " 1   ALTERSKATEGORIE_GROB   890848 non-null  float64\n",
      " 2   ANREDE_KZ              890848 non-null  float64\n",
      " 3   CJT_GESAMTTYP          890848 non-null  float64\n",
      " 4   FINANZ_MINIMALIST      890848 non-null  float64\n",
      " 5   FINANZ_SPARER          890848 non-null  float64\n",
      " 6   FINANZ_VORSORGER       890848 non-null  float64\n",
      " 7   FINANZ_ANLEGER         890848 non-null  float64\n",
      " 8   FINANZ_UNAUFFAELLIGER  890848 non-null  float64\n",
      " 9   FINANZ_HAUSBAUER       890848 non-null  float64\n",
      " 10  FINANZTYP              890848 non-null  float64\n",
      " 11  GEBURTSJAHR            890848 non-null  float64\n",
      " 12  GFK_URLAUBERTYP        890848 non-null  float64\n",
      " 13  GREEN_AVANTGARDE       890848 non-null  float64\n",
      " 14  HEALTH_TYP             890848 non-null  float64\n",
      " 15  LP_LEBENSPHASE_FEIN    890848 non-null  float64\n",
      " 16  LP_LEBENSPHASE_GROB    890848 non-null  float64\n",
      " 17  LP_FAMILIE_FEIN        890848 non-null  float64\n",
      " 18  LP_FAMILIE_GROB        890848 non-null  float64\n",
      " 19  LP_STATUS_FEIN         890848 non-null  float64\n",
      " 20  LP_STATUS_GROB         890848 non-null  float64\n",
      " 21  NATIONALITAET_KZ       890848 non-null  float64\n",
      " 22  PRAEGENDE_JUGENDJAHRE  890848 non-null  float64\n",
      " 23  RETOURTYP_BK_S         890848 non-null  float64\n",
      " 24  SEMIO_SOZ              890848 non-null  float64\n",
      " 25  SEMIO_FAM              890848 non-null  float64\n",
      " 26  SEMIO_REL              890848 non-null  float64\n",
      " 27  SEMIO_MAT              890848 non-null  float64\n",
      " 28  SEMIO_VERT             890848 non-null  float64\n",
      " 29  SEMIO_LUST             890848 non-null  float64\n",
      " 30  SEMIO_ERL              890848 non-null  float64\n",
      " 31  SEMIO_KULT             890848 non-null  float64\n",
      " 32  SEMIO_RAT              890848 non-null  float64\n",
      " 33  SEMIO_KRIT             890848 non-null  float64\n",
      " 34  SEMIO_DOM              890848 non-null  float64\n",
      " 35  SEMIO_KAEM             890848 non-null  float64\n",
      " 36  SEMIO_PFLICHT          890848 non-null  float64\n",
      " 37  SEMIO_TRADV            890848 non-null  float64\n",
      " 38  SHOPPER_TYP            890848 non-null  float64\n",
      " 39  SOHO_KZ                890848 non-null  float64\n",
      " 40  TITEL_KZ               890848 non-null  float64\n",
      " 41  VERS_TYP               890848 non-null  float64\n",
      " 42  ZABEOTYP               890848 non-null  float64\n",
      " 43  ALTER_HH               890848 non-null  float64\n",
      " 44  ANZ_PERSONEN           890848 non-null  float64\n",
      " 45  ANZ_TITEL              890848 non-null  float64\n",
      " 46  HH_EINKOMMEN_SCORE     890848 non-null  float64\n",
      " 47  KK_KUNDENTYP           890848 non-null  float64\n",
      " 48  W_KEIT_KIND_HH         890848 non-null  float64\n",
      " 49  WOHNDAUER_2008         890848 non-null  float64\n",
      " 50  ANZ_HAUSHALTE_AKTIV    890848 non-null  float64\n",
      " 51  ANZ_HH_TITEL           890848 non-null  float64\n",
      " 52  GEBAEUDETYP            890848 non-null  float64\n",
      " 53  KONSUMNAEHE            890848 non-null  float64\n",
      " 54  MIN_GEBAEUDEJAHR       890848 non-null  float64\n",
      " 55  OST_WEST_KZ            890848 non-null  float64\n",
      " 56  WOHNLAGE               890848 non-null  float64\n",
      " 57  CAMEO_DEUG_2015        890848 non-null  object \n",
      " 58  CAMEO_INTL_2015        890848 non-null  object \n",
      " 59  KBA05_ANTG1            890848 non-null  float64\n",
      " 60  KBA05_ANTG2            890848 non-null  float64\n",
      " 61  KBA05_ANTG3            890848 non-null  float64\n",
      " 62  KBA05_ANTG4            890848 non-null  float64\n",
      " 63  KBA05_BAUMAX           890848 non-null  float64\n",
      " 64  KBA05_GBZ              890848 non-null  float64\n",
      " 65  BALLRAUM               890848 non-null  float64\n",
      " 66  EWDICHTE               890848 non-null  float64\n",
      " 67  INNENSTADT             890848 non-null  float64\n",
      " 68  GEBAEUDETYP_RASTER     890848 non-null  float64\n",
      " 69  KKK                    890848 non-null  float64\n",
      " 70  MOBI_REGIO             890848 non-null  float64\n",
      " 71  ONLINE_AFFINITAET      890848 non-null  float64\n",
      " 72  REGIOTYP               890848 non-null  float64\n",
      " 73  KBA13_ANZAHL_PKW       890848 non-null  float64\n",
      " 74  PLZ8_ANTG1             890848 non-null  float64\n",
      " 75  PLZ8_ANTG2             890848 non-null  float64\n",
      " 76  PLZ8_ANTG3             890848 non-null  float64\n",
      " 77  PLZ8_ANTG4             890848 non-null  float64\n",
      " 78  PLZ8_BAUMAX            890848 non-null  float64\n",
      " 79  PLZ8_HHZ               890848 non-null  float64\n",
      " 80  PLZ8_GBZ               890848 non-null  float64\n",
      " 81  ARBEIT                 890848 non-null  float64\n",
      " 82  ORTSGR_KLS9            890848 non-null  float64\n",
      " 83  RELAT_AB               890848 non-null  float64\n",
      " 84  Number_of_Nan          890848 non-null  int64  \n",
      "dtypes: float64(82), int64(1), object(2)\n",
      "memory usage: 584.5+ MB\n"
     ]
    }
   ],
   "source": [
    "azdias.info()"
   ]
  },
  {
   "cell_type": "markdown",
   "metadata": {},
   "source": [
    "#### Discussion 1.2.1: Re-Encode Categorical Features\n",
    "- Summary:\n",
    "    - CAMEO_DEU_2015 and  columns is dropped\n",
    "    - OST_WEST_KZ column is binary\n",
    "    - CAMEO_DEUG_2015 column is multi-level"
   ]
  },
  {
   "cell_type": "markdown",
   "metadata": {},
   "source": [
    "#### Step 1.2.2: Engineer Mixed-Type Features\n",
    "\n",
    "There are a handful of features that are marked as \"mixed\" in the feature summary that require special treatment in order to be included in the analysis. There are two in particular that deserve attention; the handling of the rest are up to your own choices:\n",
    "- \"PRAEGENDE_JUGENDJAHRE\" combines information on three dimensions: generation by decade, movement (mainstream vs. avantgarde), and nation (east vs. west). While there aren't enough levels to disentangle east from west, you should create two new variables to capture the other two dimensions: an interval-type variable for decade, and a binary variable for movement.\n",
    "- \"CAMEO_INTL_2015\" combines information on two axes: wealth and life stage. Break up the two-digit codes by their 'tens'-place and 'ones'-place digits into two new ordinal variables (which, for the purposes of this project, is equivalent to just treating them as their raw numeric values).\n",
    "- If you decide to keep or engineer new features around the other mixed-type features, make sure you note your steps in the Discussion section.\n",
    "\n",
    "Be sure to check `Data_Dictionary.md` for the details needed to finish these tasks."
   ]
  },
  {
   "cell_type": "code",
   "execution_count": 36,
   "metadata": {},
   "outputs": [],
   "source": [
    "azdias['PRAEGENDE_JUGENDJAHRE_decade']   = azdias['PRAEGENDE_JUGENDJAHRE']\n",
    "azdias['PRAEGENDE_JUGENDJAHRE_movement'] = azdias['PRAEGENDE_JUGENDJAHRE']\n",
    "azdias.drop(columns = 'PRAEGENDE_JUGENDJAHRE', axis = 1, inplace = True)"
   ]
  },
  {
   "cell_type": "code",
   "execution_count": 37,
   "metadata": {},
   "outputs": [],
   "source": [
    "# Investigate \"PRAEGENDE_JUGENDJAHRE\" and engineer two new variables.\n",
    "\n",
    "azdias['PRAEGENDE_JUGENDJAHRE_decade'].replace([1, 2, 3, 4, 5, 6, 7, 8, 9, 10, 11, 12, 13, 14, 15, np.nan], \n",
    "                                        [40, 40, 50, 50, 60, 60, 60, 70, 70, 80, 80, 80, 80, 90, 90, np.nan], inplace=True)\n"
   ]
  },
  {
   "cell_type": "code",
   "execution_count": 38,
   "metadata": {},
   "outputs": [
    {
     "data": {
      "text/plain": [
       "90.0     231120\n",
       "999.0    162971\n",
       "80.0     151692\n",
       "70.0     145935\n",
       "60.0     116033\n",
       "50.0      75620\n",
       "40.0       7477\n",
       "Name: PRAEGENDE_JUGENDJAHRE_decade, dtype: int64"
      ]
     },
     "execution_count": 38,
     "metadata": {},
     "output_type": "execute_result"
    }
   ],
   "source": [
    "azdias['PRAEGENDE_JUGENDJAHRE_decade'].value_counts(dropna = False)"
   ]
  },
  {
   "cell_type": "code",
   "execution_count": 39,
   "metadata": {},
   "outputs": [],
   "source": [
    "azdias['PRAEGENDE_JUGENDJAHRE_movement'].replace([1, 2, 3, 4, 5, 6, 7, 8, 9, 10, 11, 12, 13, 14, 15, np.nan], \n",
    "                                        [0, 1, 0, 1, 0, 1, 1, 0, 1, 0, 1, 0, 1, 0, 1, np.nan], inplace=True)"
   ]
  },
  {
   "cell_type": "code",
   "execution_count": 40,
   "metadata": {},
   "outputs": [
    {
     "data": {
      "text/plain": [
       "0.0      586358\n",
       "999.0    162971\n",
       "1.0      141519\n",
       "Name: PRAEGENDE_JUGENDJAHRE_movement, dtype: int64"
      ]
     },
     "execution_count": 40,
     "metadata": {},
     "output_type": "execute_result"
    }
   ],
   "source": [
    "azdias['PRAEGENDE_JUGENDJAHRE_movement'].value_counts(dropna = False)"
   ]
  },
  {
   "cell_type": "markdown",
   "metadata": {},
   "source": [
    "\"CAMEO_INTL_2015\" combines information on two axes: wealth and life stage. Break up the two-digit codes by their 'tens'-place and 'ones'-place digits into two new ordinal variables (which, for the purposes of this project, is equivalent to just treating them as their raw numeric values)."
   ]
  },
  {
   "cell_type": "code",
   "execution_count": 41,
   "metadata": {},
   "outputs": [],
   "source": [
    "#azdias['CAMEO_INTL_2015_wealth'].astype(float64) = azdias['CAMEO_INTL_2015']\n",
    "#azdias['CAMEO_INTL_2015'] = azdias['CAMEO_INTL_2015']\n",
    "#azdias.drop(columns = 'CAMEO_INTL_2015', axis = 0, inplace = True)"
   ]
  },
  {
   "cell_type": "code",
   "execution_count": 42,
   "metadata": {},
   "outputs": [
    {
     "data": {
      "text/plain": [
       "51     133694\n",
       "999     98979\n",
       "41      92336\n",
       "24      91158\n",
       "14      62884\n",
       "43      56672\n",
       "54      45391\n",
       "25      39628\n",
       "22      33155\n",
       "23      26750\n",
       "13      26336\n",
       "45      26132\n",
       "55      23955\n",
       "52      20542\n",
       "31      19024\n",
       "34      18524\n",
       "15      16974\n",
       "44      14820\n",
       "12      13249\n",
       "35      10356\n",
       "32      10354\n",
       "33       9935\n",
       "Name: CAMEO_INTL_2015, dtype: int64"
      ]
     },
     "execution_count": 42,
     "metadata": {},
     "output_type": "execute_result"
    }
   ],
   "source": [
    "azdias.CAMEO_INTL_2015.value_counts()"
   ]
  },
  {
   "cell_type": "code",
   "execution_count": 43,
   "metadata": {},
   "outputs": [],
   "source": [
    "# Investigate \"CAMEO_INTL_2015\" and engineer two new variables.\n",
    "azdias['CAMEO_INTL_2015_wealth'] = azdias['CAMEO_INTL_2015'].apply(lambda x : x if type(x) == float else int(str(x)[0]))"
   ]
  },
  {
   "cell_type": "code",
   "execution_count": 44,
   "metadata": {},
   "outputs": [
    {
     "data": {
      "text/plain": [
       "5    223582\n",
       "2    190691\n",
       "4    189960\n",
       "1    119443\n",
       "9     98979\n",
       "3     68193\n",
       "Name: CAMEO_INTL_2015_wealth, dtype: int64"
      ]
     },
     "execution_count": 44,
     "metadata": {},
     "output_type": "execute_result"
    }
   ],
   "source": [
    "azdias['CAMEO_INTL_2015_wealth'].value_counts()"
   ]
  },
  {
   "cell_type": "code",
   "execution_count": 45,
   "metadata": {},
   "outputs": [],
   "source": [
    "azdias['CAMEO_INTL_2015_wealth_life_stage'] = azdias['CAMEO_INTL_2015'].apply(lambda x : x if type(x) == float else int(str(x)[1]))"
   ]
  },
  {
   "cell_type": "code",
   "execution_count": 46,
   "metadata": {},
   "outputs": [
    {
     "data": {
      "text/plain": [
       "1    245054\n",
       "4    232777\n",
       "3    119693\n",
       "5    117045\n",
       "9     98979\n",
       "2     77300\n",
       "Name: CAMEO_INTL_2015_wealth_life_stage, dtype: int64"
      ]
     },
     "execution_count": 46,
     "metadata": {},
     "output_type": "execute_result"
    }
   ],
   "source": [
    "azdias['CAMEO_INTL_2015_wealth_life_stage'].value_counts()"
   ]
  },
  {
   "cell_type": "markdown",
   "metadata": {},
   "source": [
    "#### Discussion 1.2.2: Engineer Mixed-Type Features\n",
    "\n",
    "PRAEGENDE_JUGENDJAHRE and CAMEO_INTL_2015 were re-encode."
   ]
  },
  {
   "cell_type": "markdown",
   "metadata": {},
   "source": [
    "#### Step 1.2.3: Complete Feature Selection\n",
    "\n",
    "In order to finish this step up, you need to make sure that your data frame now only has the columns that you want to keep. To summarize, the dataframe should consist of the following:\n",
    "- All numeric, interval, and ordinal type columns from the original dataset.\n",
    "- Binary categorical features (all numerically-encoded).\n",
    "- Engineered features from other multi-level categorical features and mixed features.\n",
    "\n",
    "Make sure that for any new columns that you have engineered, that you've excluded the original columns from the final dataset. Otherwise, their values will interfere with the analysis later on the project. For example, you should not keep \"PRAEGENDE_JUGENDJAHRE\", since its values won't be useful for the algorithm: only the values derived from it in the engineered features you created should be retained. As a reminder, your data should only be from **the subset with few or no missing values**."
   ]
  },
  {
   "cell_type": "code",
   "execution_count": 47,
   "metadata": {},
   "outputs": [],
   "source": [
    "# If there are other re-engineering tasks you need to perform, make sure you\n",
    "# take care of them here. (Dealing with missing data will come in step 2.1.)\n"
   ]
  },
  {
   "cell_type": "code",
   "execution_count": 48,
   "metadata": {},
   "outputs": [],
   "source": [
    "# Do whatever you need to in order to ensure that the dataframe only contains\n",
    "# the columns that should be passed to the algorithm functions.\n",
    "\n",
    "azdias.drop(columns = 'Number_of_Nan', inplace = True, axis = 0)"
   ]
  },
  {
   "cell_type": "code",
   "execution_count": 49,
   "metadata": {},
   "outputs": [
    {
     "name": "stdout",
     "output_type": "stream",
     "text": [
      "<class 'pandas.core.frame.DataFrame'>\n",
      "Int64Index: 890848 entries, 0 to 891220\n",
      "Data columns (total 87 columns):\n",
      " #   Column                             Non-Null Count   Dtype  \n",
      "---  ------                             --------------   -----  \n",
      " 0   AGER_TYP                           890848 non-null  float64\n",
      " 1   ALTERSKATEGORIE_GROB               890848 non-null  float64\n",
      " 2   ANREDE_KZ                          890848 non-null  float64\n",
      " 3   CJT_GESAMTTYP                      890848 non-null  float64\n",
      " 4   FINANZ_MINIMALIST                  890848 non-null  float64\n",
      " 5   FINANZ_SPARER                      890848 non-null  float64\n",
      " 6   FINANZ_VORSORGER                   890848 non-null  float64\n",
      " 7   FINANZ_ANLEGER                     890848 non-null  float64\n",
      " 8   FINANZ_UNAUFFAELLIGER              890848 non-null  float64\n",
      " 9   FINANZ_HAUSBAUER                   890848 non-null  float64\n",
      " 10  FINANZTYP                          890848 non-null  float64\n",
      " 11  GEBURTSJAHR                        890848 non-null  float64\n",
      " 12  GFK_URLAUBERTYP                    890848 non-null  float64\n",
      " 13  GREEN_AVANTGARDE                   890848 non-null  float64\n",
      " 14  HEALTH_TYP                         890848 non-null  float64\n",
      " 15  LP_LEBENSPHASE_FEIN                890848 non-null  float64\n",
      " 16  LP_LEBENSPHASE_GROB                890848 non-null  float64\n",
      " 17  LP_FAMILIE_FEIN                    890848 non-null  float64\n",
      " 18  LP_FAMILIE_GROB                    890848 non-null  float64\n",
      " 19  LP_STATUS_FEIN                     890848 non-null  float64\n",
      " 20  LP_STATUS_GROB                     890848 non-null  float64\n",
      " 21  NATIONALITAET_KZ                   890848 non-null  float64\n",
      " 22  RETOURTYP_BK_S                     890848 non-null  float64\n",
      " 23  SEMIO_SOZ                          890848 non-null  float64\n",
      " 24  SEMIO_FAM                          890848 non-null  float64\n",
      " 25  SEMIO_REL                          890848 non-null  float64\n",
      " 26  SEMIO_MAT                          890848 non-null  float64\n",
      " 27  SEMIO_VERT                         890848 non-null  float64\n",
      " 28  SEMIO_LUST                         890848 non-null  float64\n",
      " 29  SEMIO_ERL                          890848 non-null  float64\n",
      " 30  SEMIO_KULT                         890848 non-null  float64\n",
      " 31  SEMIO_RAT                          890848 non-null  float64\n",
      " 32  SEMIO_KRIT                         890848 non-null  float64\n",
      " 33  SEMIO_DOM                          890848 non-null  float64\n",
      " 34  SEMIO_KAEM                         890848 non-null  float64\n",
      " 35  SEMIO_PFLICHT                      890848 non-null  float64\n",
      " 36  SEMIO_TRADV                        890848 non-null  float64\n",
      " 37  SHOPPER_TYP                        890848 non-null  float64\n",
      " 38  SOHO_KZ                            890848 non-null  float64\n",
      " 39  TITEL_KZ                           890848 non-null  float64\n",
      " 40  VERS_TYP                           890848 non-null  float64\n",
      " 41  ZABEOTYP                           890848 non-null  float64\n",
      " 42  ALTER_HH                           890848 non-null  float64\n",
      " 43  ANZ_PERSONEN                       890848 non-null  float64\n",
      " 44  ANZ_TITEL                          890848 non-null  float64\n",
      " 45  HH_EINKOMMEN_SCORE                 890848 non-null  float64\n",
      " 46  KK_KUNDENTYP                       890848 non-null  float64\n",
      " 47  W_KEIT_KIND_HH                     890848 non-null  float64\n",
      " 48  WOHNDAUER_2008                     890848 non-null  float64\n",
      " 49  ANZ_HAUSHALTE_AKTIV                890848 non-null  float64\n",
      " 50  ANZ_HH_TITEL                       890848 non-null  float64\n",
      " 51  GEBAEUDETYP                        890848 non-null  float64\n",
      " 52  KONSUMNAEHE                        890848 non-null  float64\n",
      " 53  MIN_GEBAEUDEJAHR                   890848 non-null  float64\n",
      " 54  OST_WEST_KZ                        890848 non-null  float64\n",
      " 55  WOHNLAGE                           890848 non-null  float64\n",
      " 56  CAMEO_DEUG_2015                    890848 non-null  object \n",
      " 57  CAMEO_INTL_2015                    890848 non-null  object \n",
      " 58  KBA05_ANTG1                        890848 non-null  float64\n",
      " 59  KBA05_ANTG2                        890848 non-null  float64\n",
      " 60  KBA05_ANTG3                        890848 non-null  float64\n",
      " 61  KBA05_ANTG4                        890848 non-null  float64\n",
      " 62  KBA05_BAUMAX                       890848 non-null  float64\n",
      " 63  KBA05_GBZ                          890848 non-null  float64\n",
      " 64  BALLRAUM                           890848 non-null  float64\n",
      " 65  EWDICHTE                           890848 non-null  float64\n",
      " 66  INNENSTADT                         890848 non-null  float64\n",
      " 67  GEBAEUDETYP_RASTER                 890848 non-null  float64\n",
      " 68  KKK                                890848 non-null  float64\n",
      " 69  MOBI_REGIO                         890848 non-null  float64\n",
      " 70  ONLINE_AFFINITAET                  890848 non-null  float64\n",
      " 71  REGIOTYP                           890848 non-null  float64\n",
      " 72  KBA13_ANZAHL_PKW                   890848 non-null  float64\n",
      " 73  PLZ8_ANTG1                         890848 non-null  float64\n",
      " 74  PLZ8_ANTG2                         890848 non-null  float64\n",
      " 75  PLZ8_ANTG3                         890848 non-null  float64\n",
      " 76  PLZ8_ANTG4                         890848 non-null  float64\n",
      " 77  PLZ8_BAUMAX                        890848 non-null  float64\n",
      " 78  PLZ8_HHZ                           890848 non-null  float64\n",
      " 79  PLZ8_GBZ                           890848 non-null  float64\n",
      " 80  ARBEIT                             890848 non-null  float64\n",
      " 81  ORTSGR_KLS9                        890848 non-null  float64\n",
      " 82  RELAT_AB                           890848 non-null  float64\n",
      " 83  PRAEGENDE_JUGENDJAHRE_decade       890848 non-null  float64\n",
      " 84  PRAEGENDE_JUGENDJAHRE_movement     890848 non-null  float64\n",
      " 85  CAMEO_INTL_2015_wealth             890848 non-null  int64  \n",
      " 86  CAMEO_INTL_2015_wealth_life_stage  890848 non-null  int64  \n",
      "dtypes: float64(83), int64(2), object(2)\n",
      "memory usage: 598.1+ MB\n"
     ]
    }
   ],
   "source": [
    "azdias.info()"
   ]
  },
  {
   "cell_type": "markdown",
   "metadata": {},
   "source": [
    "### Step 1.3: Create a Cleaning Function\n",
    "\n",
    "Even though you've finished cleaning up the general population demographics data, it's important to look ahead to the future and realize that you'll need to perform the same cleaning steps on the customer demographics data. In this substep, complete the function below to execute the main feature selection, encoding, and re-engineering steps you performed above. Then, when it comes to looking at the customer data in Step 3, you can just run this function on that DataFrame to get the trimmed dataset in a single step."
   ]
  },
  {
   "cell_type": "code",
   "execution_count": 50,
   "metadata": {},
   "outputs": [],
   "source": [
    "azdias = pd.read_csv('Udacity_AZDIAS_Subset.csv', sep =';')"
   ]
  },
  {
   "cell_type": "code",
   "execution_count": 51,
   "metadata": {},
   "outputs": [],
   "source": [
    "def clean_data(df):\n",
    "    \"\"\"\n",
    "    Perform feature trimming, re-encoding, and engineering for demographics\n",
    "    data\n",
    "    \n",
    "    INPUT: Demographics DataFrame\n",
    "    OUTPUT: Trimmed and cleaned demographics DataFrame\n",
    "    \"\"\"\n",
    "    \n",
    "    # Put in code here to execute all main cleaning steps:\n",
    "    # convert missing value codes into NaNs, ...\n",
    "    \n",
    "    \n",
    "    # remove selected columns and rows, ...\n",
    "\n",
    "    \n",
    "    # select, re-encode, and engineer column values.\n",
    "\n",
    "    \n",
    "    # Return the cleaned dataframe.\n",
    "    \n",
    "    zdias = df.copy()\n",
    "    try:\n",
    "        zdias[columns] = azdias[columns].replace({0: np.nan, -1:np.nan, 1:np.nan, 9:np.nan })\n",
    "    except:\n",
    "        pass\n",
    "    \n",
    "    #df.replace(['very bad', 'bad', 'poor', 'good', 'very good'], \n",
    "    #                 [1, 2, 3, 4, 5])\n",
    "    #zdias.replace([0,-1,9], [nan,nan,nan])\n",
    "\n",
    "    perc_missing_columns = (azdias.isnull().sum() / len(azdias)) * 100\n",
    "    \n",
    "    \n",
    "    azdias['Number_of_Nan'] = azdias.apply(lambda  row: row.isnull().sum(), axis = 1)\n",
    "\n",
    "\n",
    "    #azdias_great_than_10 = azdias[azdias.isnull().sum(axis = 1) > 30]\n",
    "    azdias_great_than_10 = azdias[azdias['Number_of_Nan']> 30]\n",
    "    \n",
    "    #azdias_less_than_10 = azdias[azdias.isnull().sum(axis = 1) <= 30]\n",
    "    azdias_less_than_10 = azdias[azdias['Number_of_Nan'] <= 30]\n",
    "\n",
    "\n",
    "\n",
    "   \n",
    "    azdias['PRAEGENDE_JUGENDJAHRE_decade']   = azdias['PRAEGENDE_JUGENDJAHRE']\n",
    "    azdias['PRAEGENDE_JUGENDJAHRE_movement'] = azdias['PRAEGENDE_JUGENDJAHRE']\n",
    "    \n",
    "    #azdias.drop(columns = 'PRAEGENDE_JUGENDJAHRE', axis = 1, inplace = True)\n",
    "    \n",
    "    azdias['PRAEGENDE_JUGENDJAHRE_decade'].replace([1, 2, 3, 4, 5, 6, 7, 8, 9, 10, 11, 12, 13, 14, 15, np.nan], \n",
    "                                        [40, 40, 50, 50, 60, 60, 60, 70, 70, 80, 80, 80, 80, 90, 90, np.nan], inplace=True)\n",
    "    \n",
    "    azdias['PRAEGENDE_JUGENDJAHRE_movement'].replace([1, 2, 3, 4, 5, 6, 7, 8, 9, 10, 11, 12, 13, 14, 15, np.nan], \n",
    "                                        [0, 1, 0, 1, 0, 1, 1, 0, 1, 0, 1, 0, 1, 0, 1, np.nan], inplace=True)\n",
    "    \n",
    "    azdias['CAMEO_INTL_2015_wealth'] = azdias['CAMEO_INTL_2015'].apply(\n",
    "                                                                        lambda x : x if type(x) == float else int(str(x)[0]))    \n",
    "    \n",
    "    azdias['CAMEO_INTL_2015_wealth_lifestage'] = azdias['CAMEO_INTL_2015'].apply(\n",
    "                                                                        lambda x : x if type(x) == float else int(str(x)[1]))\n",
    "    \n",
    "    #azdias.drop(columns = 'CAMEO_INTL_2015', axis = 1, inplace = True)\n",
    "    # drop the columns\n",
    "    try:\n",
    "        azdias.drop(['CAMEO_DEU_2015', 'CAMEO_INTL_2015', 'PRAEGENDE_JUGENDJAHRE' ], axis = 1 ,inplace = True)\n",
    "    except:\n",
    "        pass\n",
    "\n",
    "\n",
    "    # Part I:  Re-encode categorical variable(s) to be kept in the analysis.\n",
    "    #dummy = pd.get_dummies(azdias['OST_WEST_KZ']).rename(columns = lambda x: 'OST_WEST_KZ_' + str(x))\n",
    "    #azdias = pd.concat([azdias, dummy], axis = 1)\n",
    "    #azdias = azdias.drop('OST_WEST_KZ', axis = 1)\n",
    "    \n",
    "    azdias['OST_WEST_KZ'].replace(['W', 'O'], [1, 0], inplace=True)\n",
    "\n",
    "\n",
    "    # Part II: Re-encode categorical variable(s) to be kept in the analysis. \n",
    "    #upper class\n",
    "    #-  2: upper middleclass\n",
    "    #-  3: established middleclass\n",
    "    #-  4: consumption-oriented middleclass\n",
    "    #-  5: active middleclass\n",
    "    #-  6: low-consumption middleclass\n",
    "    #-  7: lower middleclass\n",
    "    #-  8: working class\n",
    "    #-  9: urban working class\n",
    "    #-  X: unknown\n",
    "\n",
    "    #dummy = pd.get_dummies(azdias['CAMEO_DEUG_2015']).rename(columns = lambda x: 'CAMEO_DEUG_2015' + str(x))\n",
    "    #azdias = pd.concat([azdias, dummy], axis = 1)\n",
    "    #azdias = azdias.drop('CAMEO_DEUG_2015', axis = 1)\n",
    "    Upper = [2,3,4,]\n",
    "    Lower = [6,7,8,9]\n",
    "    azdias['CAMEO_DEUG_2015'].replace([2,3,4,6,7,8,9], [1, 1,1,0,0,0,0], inplace = True)\n",
    "    \n",
    "    #df.drop(df[df['Age'] < 25].index, inplace = True) \n",
    "    azdias.drop(azdias[azdias['CAMEO_DEUG_2015'] == 'X'].index, inplace = True)\n",
    "\n",
    "\n",
    "    \n",
    "    # azdias.OST_WEST_KZ_O = azdias.OST_WEST_KZ_O.astype(np.float64)\n",
    "    # azdias.OST_WEST_KZ_W = azdias.OST_WEST_KZ_W.astype(np.float64)\n",
    "    \n",
    "    azdias.replace([np.inf, -np.inf], np.nan, inplace=True)\n",
    "\n",
    "    df.fillna(999, inplace=True)\n",
    "\n",
    "    # azdias.dropna(inplace = True)\n",
    "    azdias.drop(columns = 'Number_of_Nan', inplace = True, axis = 0)\n",
    "    \n",
    "    return azdias\n",
    "    "
   ]
  },
  {
   "cell_type": "code",
   "execution_count": 52,
   "metadata": {},
   "outputs": [
    {
     "ename": "ValueError",
     "evalue": "invalid literal for int() with base 10: 'X'",
     "output_type": "error",
     "traceback": [
      "\u001b[1;31m---------------------------------------------------------------------------\u001b[0m",
      "\u001b[1;31mValueError\u001b[0m                                Traceback (most recent call last)",
      "\u001b[1;32m<ipython-input-52-58694febf152>\u001b[0m in \u001b[0;36m<module>\u001b[1;34m\u001b[0m\n\u001b[0;32m      3\u001b[0m \u001b[0mstart\u001b[0m \u001b[1;33m=\u001b[0m \u001b[0mtime\u001b[0m\u001b[1;33m(\u001b[0m\u001b[1;33m)\u001b[0m\u001b[1;33m\u001b[0m\u001b[1;33m\u001b[0m\u001b[0m\n\u001b[0;32m      4\u001b[0m \u001b[1;33m\u001b[0m\u001b[0m\n\u001b[1;32m----> 5\u001b[1;33m \u001b[0mazdias_clean\u001b[0m \u001b[1;33m=\u001b[0m \u001b[0mclean_data\u001b[0m\u001b[1;33m(\u001b[0m\u001b[0mazdias\u001b[0m\u001b[1;33m)\u001b[0m\u001b[1;33m\u001b[0m\u001b[1;33m\u001b[0m\u001b[0m\n\u001b[0m\u001b[0;32m      6\u001b[0m \u001b[1;33m\u001b[0m\u001b[0m\n\u001b[0;32m      7\u001b[0m \u001b[0mend\u001b[0m \u001b[1;33m=\u001b[0m \u001b[0mtime\u001b[0m\u001b[1;33m(\u001b[0m\u001b[1;33m)\u001b[0m\u001b[1;33m\u001b[0m\u001b[1;33m\u001b[0m\u001b[0m\n",
      "\u001b[1;32m<ipython-input-51-369cb12ac2ce>\u001b[0m in \u001b[0;36mclean_data\u001b[1;34m(df)\u001b[0m\n\u001b[0;32m     57\u001b[0m \u001b[1;33m\u001b[0m\u001b[0m\n\u001b[0;32m     58\u001b[0m     azdias['CAMEO_INTL_2015_wealth'] = azdias['CAMEO_INTL_2015'].apply(\n\u001b[1;32m---> 59\u001b[1;33m                                                                         lambda x : x if type(x) == float else int(str(x)[0]))    \n\u001b[0m\u001b[0;32m     60\u001b[0m \u001b[1;33m\u001b[0m\u001b[0m\n\u001b[0;32m     61\u001b[0m     azdias['CAMEO_INTL_2015_wealth_lifestage'] = azdias['CAMEO_INTL_2015'].apply(\n",
      "\u001b[1;32m~\\Anaconda3\\lib\\site-packages\\pandas\\core\\series.py\u001b[0m in \u001b[0;36mapply\u001b[1;34m(self, func, convert_dtype, args, **kwds)\u001b[0m\n\u001b[0;32m   3846\u001b[0m             \u001b[1;32melse\u001b[0m\u001b[1;33m:\u001b[0m\u001b[1;33m\u001b[0m\u001b[1;33m\u001b[0m\u001b[0m\n\u001b[0;32m   3847\u001b[0m                 \u001b[0mvalues\u001b[0m \u001b[1;33m=\u001b[0m \u001b[0mself\u001b[0m\u001b[1;33m.\u001b[0m\u001b[0mastype\u001b[0m\u001b[1;33m(\u001b[0m\u001b[0mobject\u001b[0m\u001b[1;33m)\u001b[0m\u001b[1;33m.\u001b[0m\u001b[0mvalues\u001b[0m\u001b[1;33m\u001b[0m\u001b[1;33m\u001b[0m\u001b[0m\n\u001b[1;32m-> 3848\u001b[1;33m                 \u001b[0mmapped\u001b[0m \u001b[1;33m=\u001b[0m \u001b[0mlib\u001b[0m\u001b[1;33m.\u001b[0m\u001b[0mmap_infer\u001b[0m\u001b[1;33m(\u001b[0m\u001b[0mvalues\u001b[0m\u001b[1;33m,\u001b[0m \u001b[0mf\u001b[0m\u001b[1;33m,\u001b[0m \u001b[0mconvert\u001b[0m\u001b[1;33m=\u001b[0m\u001b[0mconvert_dtype\u001b[0m\u001b[1;33m)\u001b[0m\u001b[1;33m\u001b[0m\u001b[1;33m\u001b[0m\u001b[0m\n\u001b[0m\u001b[0;32m   3849\u001b[0m \u001b[1;33m\u001b[0m\u001b[0m\n\u001b[0;32m   3850\u001b[0m         \u001b[1;32mif\u001b[0m \u001b[0mlen\u001b[0m\u001b[1;33m(\u001b[0m\u001b[0mmapped\u001b[0m\u001b[1;33m)\u001b[0m \u001b[1;32mand\u001b[0m \u001b[0misinstance\u001b[0m\u001b[1;33m(\u001b[0m\u001b[0mmapped\u001b[0m\u001b[1;33m[\u001b[0m\u001b[1;36m0\u001b[0m\u001b[1;33m]\u001b[0m\u001b[1;33m,\u001b[0m \u001b[0mSeries\u001b[0m\u001b[1;33m)\u001b[0m\u001b[1;33m:\u001b[0m\u001b[1;33m\u001b[0m\u001b[1;33m\u001b[0m\u001b[0m\n",
      "\u001b[1;32mpandas\\_libs\\lib.pyx\u001b[0m in \u001b[0;36mpandas._libs.lib.map_infer\u001b[1;34m()\u001b[0m\n",
      "\u001b[1;32m<ipython-input-51-369cb12ac2ce>\u001b[0m in \u001b[0;36m<lambda>\u001b[1;34m(x)\u001b[0m\n\u001b[0;32m     57\u001b[0m \u001b[1;33m\u001b[0m\u001b[0m\n\u001b[0;32m     58\u001b[0m     azdias['CAMEO_INTL_2015_wealth'] = azdias['CAMEO_INTL_2015'].apply(\n\u001b[1;32m---> 59\u001b[1;33m                                                                         lambda x : x if type(x) == float else int(str(x)[0]))    \n\u001b[0m\u001b[0;32m     60\u001b[0m \u001b[1;33m\u001b[0m\u001b[0m\n\u001b[0;32m     61\u001b[0m     azdias['CAMEO_INTL_2015_wealth_lifestage'] = azdias['CAMEO_INTL_2015'].apply(\n",
      "\u001b[1;31mValueError\u001b[0m: invalid literal for int() with base 10: 'X'"
     ]
    }
   ],
   "source": [
    "from time import time\n",
    "\n",
    "start = time()\n",
    "\n",
    "azdias_clean = clean_data(azdias)\n",
    "\n",
    "end = time()\n",
    "\n",
    "print('Total Time for Cleanning the data is ' + str(end - start))"
   ]
  },
  {
   "cell_type": "code",
   "execution_count": null,
   "metadata": {},
   "outputs": [],
   "source": [
    "azdias_clean.info()"
   ]
  },
  {
   "cell_type": "markdown",
   "metadata": {},
   "source": [
    "## Step 2: Feature Transformation\n",
    "\n",
    "### Step 2.1: Apply Feature Scaling\n",
    "\n",
    "Before we apply dimensionality reduction techniques to the data, we need to perform feature scaling so that the principal component vectors are not influenced by the natural differences in scale for features. Starting from this part of the project, you'll want to keep an eye on the [API reference page for sklearn](http://scikit-learn.org/stable/modules/classes.html) to help you navigate to all of the classes and functions that you'll need. In this substep, you'll need to check the following:\n",
    "\n",
    "- sklearn requires that data not have missing values in order for its estimators to work properly. So, before applying the scaler to your data, make sure that you've cleaned the DataFrame of the remaining missing values. This can be as simple as just removing all data points with missing data, or applying an [Imputer](http://scikit-learn.org/stable/modules/generated/sklearn.preprocessing.Imputer.html) to replace all missing values. You might also try a more complicated procedure where you temporarily remove missing values in order to compute the scaling parameters before re-introducing those missing values and applying imputation. Think about how much missing data you have and what possible effects each approach might have on your analysis, and justify your decision in the discussion section below.\n",
    "- For the actual scaling function, a [StandardScaler](http://scikit-learn.org/stable/modules/generated/sklearn.preprocessing.StandardScaler.html) instance is suggested, scaling each feature to mean 0 and standard deviation 1.\n",
    "- For these classes, you can make use of the `.fit_transform()` method to both fit a procedure to the data as well as apply the transformation to the data at the same time. Don't forget to keep the fit sklearn objects handy, since you'll be applying them to the customer demographics data towards the end of the project."
   ]
  },
  {
   "cell_type": "code",
   "execution_count": null,
   "metadata": {},
   "outputs": [],
   "source": [
    "# If you've not yet cleaned the dataset of all NaN values, then investigate and\n",
    "# do that now.\n",
    "azdias.isnull().sum().sum()"
   ]
  },
  {
   "cell_type": "code",
   "execution_count": null,
   "metadata": {},
   "outputs": [],
   "source": [
    "# Apply feature scaling to the general population demographics data.\n",
    "\n",
    "# import Lib\n",
    "from sklearn import preprocessing as p\n",
    "\n",
    "azdias_ss = p.StandardScaler().fit_transform(azdias_clean)"
   ]
  },
  {
   "cell_type": "markdown",
   "metadata": {},
   "source": [
    "### Discussion 2.1: Apply Feature Scaling\n",
    "\n",
    "In order to start the applying the scaling, all NaNs are needed to be reomved. Then fir_transform method was applied;however, the standard deviation was not used."
   ]
  },
  {
   "cell_type": "markdown",
   "metadata": {},
   "source": [
    "### Step 2.2: Perform Dimensionality Reduction\n",
    "\n",
    "On your scaled data, you are now ready to apply dimensionality reduction techniques.\n",
    "\n",
    "- Use sklearn's [PCA](http://scikit-learn.org/stable/modules/generated/sklearn.decomposition.PCA.html) class to apply principal component analysis on the data, thus finding the vectors of maximal variance in the data. To start, you should not set any parameters (so all components are computed) or set a number of components that is at least half the number of features (so there's enough features to see the general trend in variability).\n",
    "- Check out the ratio of variance explained by each principal component as well as the cumulative variance explained. Try plotting the cumulative or sequential values using matplotlib's [`plot()`](https://matplotlib.org/api/_as_gen/matplotlib.pyplot.plot.html) function. Based on what you find, select a value for the number of transformed features you'll retain for the clustering part of the project.\n",
    "- Once you've made a choice for the number of components to keep, make sure you re-fit a PCA instance to perform the decided-on transformation."
   ]
  },
  {
   "cell_type": "code",
   "execution_count": null,
   "metadata": {},
   "outputs": [],
   "source": [
    "# Apply PCA to the data.\n",
    "\n",
    "from sklearn.decomposition import PCA\n",
    "\n",
    "#PCA_ = PCA(n_components = 3)\n",
    "#azdias_PCA = PCA_.fit_transform(azdias_ss)\n",
    "\n",
    "pca = PCA(15)\n",
    "pca_azdias = pca.fit_transform(azdias_ss)"
   ]
  },
  {
   "cell_type": "code",
   "execution_count": null,
   "metadata": {},
   "outputs": [],
   "source": [
    "# Investigate the variance accounted for by each principal component.\n",
    "# source is the Function_help file\n",
    "\n",
    "num_components =len(pca.explained_variance_ratio_)\n",
    "ind  = np.arange(num_components)\n",
    "vals = pca.explained_variance_ratio_\n",
    "\n",
    "plt.figure(figsize = (20,8))\n",
    "ax = plt.subplot(111)\n",
    "cumvals = np.cumsum(vals)\n",
    "ax.bar(ind, vals)\n",
    "ax.plot(ind, cumvals)\n",
    "for i in range(num_components):\n",
    "    ax.annotate(r\"%s%%\" % ((str(vals[i] * 100)[:4])), (ind[i] + 0.2, vals[i]), va = \"bottom\", ha = \"center\", fontsize = 12)\n",
    "    \n",
    "ax.xaxis.set_tick_params(width=0)\n",
    "ax.yaxis.set_tick_params(width=2, length=12)\n",
    "\n",
    "ax.set_xlabel(\"Principal Component\")\n",
    "ax.set_ylabel(\"Variance Explained (%)\")\n",
    "plt.title('Explained Variance Per Principal Component');"
   ]
  },
  {
   "cell_type": "code",
   "execution_count": null,
   "metadata": {},
   "outputs": [],
   "source": [
    "# Re-apply PCA to the data while selecting for number of components to retain.\n",
    "\n",
    "#PCA_ = PCA(n_components = 3)\n",
    "#azdias_PCA = PCA_.fit_transform(azdias_ss)\n",
    "\n",
    "pca = PCA(n_components = 10)\n",
    "pca_azdias = pca.fit_transform(azdias_ss)"
   ]
  },
  {
   "cell_type": "markdown",
   "metadata": {},
   "source": [
    "### Discussion 2.2: Perform Dimensionality Reduction\n",
    "\n",
    "(Double-click this cell and replace this text with your own text, reporting your findings and decisions regarding dimensionality reduction. How many principal components / transformed features are you retaining for the next step of the analysis?)"
   ]
  },
  {
   "cell_type": "markdown",
   "metadata": {},
   "source": [
    "### Step 2.3: Interpret Principal Components\n",
    "\n",
    "Now that we have our transformed principal components, it's a nice idea to check out the weight of each variable on the first few components to see if they can be interpreted in some fashion.\n",
    "\n",
    "As a reminder, each principal component is a unit vector that points in the direction of highest variance (after accounting for the variance captured by earlier principal components). The further a weight is from zero, the more the principal component is in the direction of the corresponding feature. If two features have large weights of the same sign (both positive or both negative), then increases in one tend expect to be associated with increases in the other. To contrast, features with different signs can be expected to show a negative correlation: increases in one variable should result in a decrease in the other.\n",
    "\n",
    "- To investigate the features, you should map each weight to their corresponding feature name, then sort the features according to weight. The most interesting features for each principal component, then, will be those at the beginning and end of the sorted list. Use the data dictionary document to help you understand these most prominent features, their relationships, and what a positive or negative value on the principal component might indicate.\n",
    "- You should investigate and interpret feature associations from the first three principal components in this substep. To help facilitate this, you should write a function that you can call at any time to print the sorted list of feature weights, for the *i*-th principal component. This might come in handy in the next step of the project, when you interpret the tendencies of the discovered clusters."
   ]
  },
  {
   "cell_type": "code",
   "execution_count": null,
   "metadata": {},
   "outputs": [],
   "source": [
    "# Map weights for the first principal component to corresponding feature names\n",
    "# and then print the linked values, sorted by weight.\n",
    "# HINT: Try defining a function here or in a new cell that you can reuse in the\n",
    "# other cells.\n",
    "\n",
    "# source is the Function_help file\n",
    "\n",
    "def pca_results(df, pca, num_comp):\n",
    "    \n",
    "    component = pd.DataFrame(np.round(pca.components_, 4), columns = df.keys()).iloc[num_comp - 1]\n",
    "    component.sort_values(ascending = False, inplace = True)\n",
    "    component = pd.concat([component.head(7), component.tail(7)])\n",
    "    \n",
    "    component.plot(kind = 'bar', title = 'component ' + str(num_comp), color = 'r', figsize = (10, 8))\n",
    "    ax = plt.show\n"
   ]
  },
  {
   "cell_type": "code",
   "execution_count": null,
   "metadata": {},
   "outputs": [],
   "source": [
    "pca_results(azdias, pca, 1)"
   ]
  },
  {
   "cell_type": "code",
   "execution_count": null,
   "metadata": {},
   "outputs": [],
   "source": [
    "# Map weights for the second principal component to corresponding feature names\n",
    "# and then print the linked values, sorted by weight.\n",
    "\n",
    "pca_results(azdias, pca, 2)"
   ]
  },
  {
   "cell_type": "code",
   "execution_count": null,
   "metadata": {},
   "outputs": [],
   "source": [
    "# Map weights for the third principal component to corresponding feature names\n",
    "# and then print the linked values, sorted by weight.\n",
    "\n",
    "pca_results(azdias, pca, 3)"
   ]
  },
  {
   "cell_type": "markdown",
   "metadata": {},
   "source": [
    "### Discussion 2.3: Interpret Principal Components\n",
    "\n",
    "All the three components have positive and negative columns. In the below will break the has component into positive and negative as well as mention some of the columns\n",
    "•\tThe First Principal Component has \n",
    "`Positive Columns`:\n",
    "-\tKBA05_ANTG4\n",
    "-\tKBA05_ANTG3\n",
    "-\tKBA05_BAUMAX\n",
    "-\tKBA05_ANTG2\n",
    "`Negative Columns`:\n",
    "-\tMIN_GEBAEUDEJAHR\n",
    "-\tGEBAEUDEJAHR\n",
    "\n",
    "•\tThe Second Principal Component has \n",
    "`Positive Columns`:\n",
    "-\tGEBAEUDEJAHR\n",
    "-\tKBA05_ANTG1\n",
    "-\tMOBI_REGIO\n",
    "-\tKBA05_ANTG2\n",
    "` Negative Columns`:\n",
    "-\tMIN_GEBAEUDEJAHR\n",
    "-\tKK_KUNDENTYP\n",
    "-\t\n",
    "\n",
    "•\tThe Third Principal Component has \n",
    "`Positive Columns`:\n",
    "-\tFIANZ_SPARER\n",
    "-\tSEMIO_PFLICHT\n",
    "-\tSEMIO_REL\n",
    "` Negative Columns`:\n",
    "-\tFINANZTYP\n",
    "-\tAGER_TYP\n",
    "-\tSEMIO_ERL\n",
    "It seems that the third component has the best result\n"
   ]
  },
  {
   "cell_type": "markdown",
   "metadata": {},
   "source": [
    "## Step 3: Clustering\n",
    "\n",
    "### Step 3.1: Apply Clustering to General Population\n",
    "\n",
    "You've assessed and cleaned the demographics data, then scaled and transformed them. Now, it's time to see how the data clusters in the principal components space. In this substep, you will apply k-means clustering to the dataset and use the average within-cluster distances from each point to their assigned cluster's centroid to decide on a number of clusters to keep.\n",
    "\n",
    "- Use sklearn's [KMeans](http://scikit-learn.org/stable/modules/generated/sklearn.cluster.KMeans.html#sklearn.cluster.KMeans) class to perform k-means clustering on the PCA-transformed data.\n",
    "- Then, compute the average difference from each point to its assigned cluster's center. **Hint**: The KMeans object's `.score()` method might be useful here, but note that in sklearn, scores tend to be defined so that larger is better. Try applying it to a small, toy dataset, or use an internet search to help your understanding.\n",
    "- Perform the above two steps for a number of different cluster counts. You can then see how the average distance decreases with an increasing number of clusters. However, each additional cluster provides a smaller net benefit. Use this fact to select a final number of clusters in which to group the data. **Warning**: because of the large size of the dataset, it can take a long time for the algorithm to resolve. The more clusters to fit, the longer the algorithm will take. You should test for cluster counts through at least 10 clusters to get the full picture, but you shouldn't need to test for a number of clusters above about 30.\n",
    "- Once you've selected a final number of clusters to use, re-fit a KMeans instance to perform the clustering operation. Make sure that you also obtain the cluster assignments for the general demographics data, since you'll be using them in the final Step 3.3."
   ]
  },
  {
   "cell_type": "code",
   "execution_count": null,
   "metadata": {},
   "outputs": [],
   "source": [
    "#class sklearn.cluster.KMeans(n_clusters=8, *, init='k-means++', n_init=10, max_iter=300, tol=0.0001, \n",
    "#                             precompute_distances='deprecated', verbose=0, random_state=None, copy_x=True, n_jobs='deprecated', algorithm='auto')"
   ]
  },
  {
   "cell_type": "code",
   "execution_count": null,
   "metadata": {},
   "outputs": [],
   "source": [
    "# Over a number of different cluster counts... azdias_PCA\n",
    "from sklearn.cluster import KMeans\n",
    "from time import time\n",
    "\n",
    "average = []\n",
    "score   = []\n",
    "k_range = np.arange(5,10)\n",
    "\n",
    "start = time()\n",
    "\n",
    "for c in k_range:\n",
    "    \n",
    "    # run k-means clustering on the data and...\n",
    "    kmean = KMeans(n_clusters = c)\n",
    "    fit_kmean = kmean.fit(pca_azdias) \n",
    "    \n",
    "    #socre\n",
    "    score.append(np.abs(fit_kmean.score(pca_azdias)))\n",
    "    \n",
    "    # compute the average within-cluster distances.\n",
    "    #num_clus  = n_clusters\n",
    "    #print(\"For n_clusters = {} The average within the Cluster distance is {}\".format(c, score / pca_azdias ))\n",
    "    #average.append(score / pca_azdias ) \n",
    "    \n",
    "end = time()\n",
    "print(end - start)"
   ]
  },
  {
   "cell_type": "code",
   "execution_count": null,
   "metadata": {},
   "outputs": [],
   "source": [
    "print(k_range)"
   ]
  },
  {
   "cell_type": "code",
   "execution_count": null,
   "metadata": {},
   "outputs": [],
   "source": [
    "# Investigate the change in within-cluster distance across number of clusters.\n",
    "# HINT: Use matplotlib's plot function to visualize this relationship.\n",
    "\n",
    "plt.plot(k_range, score, linestyle = '--', marker = 'o', color = 'r');\n",
    "plt.xlabel('K-Means')\n",
    "plt.ylabel('Average Distance');\n",
    "plt.title('Average Distance Vs K-Means');"
   ]
  },
  {
   "cell_type": "code",
   "execution_count": null,
   "metadata": {},
   "outputs": [],
   "source": [
    "# Re-fit the k-means model with the selected number of clusters and obtain\n",
    "# cluster predictions for the general population demographics data.\n",
    "\n",
    "kmean = KMeans(n_clusters = 8)\n",
    "\n",
    "fit_pred_kmean = kmean.fit_predict(pca_azdias)"
   ]
  },
  {
   "cell_type": "code",
   "execution_count": null,
   "metadata": {},
   "outputs": [],
   "source": [
    "cluster_azdias = pd.DataFrame({'cluster': pd.Series(fit_pred_kmean).value_counts().index, \n",
    "                'percetage_of_data': 100 * pd.Series(fit_pred_kmean).value_counts().values / len(fit_pred_kmean),  \n",
    "                'population_proprotion':      pd.Series(fit_pred_kmean).value_counts().index / len (fit_pred_kmean)\n",
    "                              })\n",
    "cluster_azdias['data'] = 'population'\n",
    "\n",
    "cluster_azdias.head(3)"
   ]
  },
  {
   "cell_type": "code",
   "execution_count": null,
   "metadata": {},
   "outputs": [],
   "source": [
    "type(cluster_azdias)"
   ]
  },
  {
   "cell_type": "markdown",
   "metadata": {},
   "source": [
    "### Discussion 3.1: Apply Clustering to General Population\n",
    "\n",
    "The Number of cluser was 8. As can seen in the line chart, 8 is the bes point between the K-Mean and average distance, which will lead to  optimal results."
   ]
  },
  {
   "cell_type": "markdown",
   "metadata": {},
   "source": [
    "### Step 3.2: Apply All Steps to the Customer Data\n",
    "\n",
    "Now that you have clusters and cluster centers for the general population, it's time to see how the customer data maps on to those clusters. Take care to not confuse this for re-fitting all of the models to the customer data. Instead, you're going to use the fits from the general population to clean, transform, and cluster the customer data. In the last step of the project, you will interpret how the general population fits apply to the customer data.\n",
    "\n",
    "- Don't forget when loading in the customers data, that it is semicolon (`;`) delimited.\n",
    "- Apply the same feature wrangling, selection, and engineering steps to the customer demographics using the `clean_data()` function you created earlier. (You can assume that the customer demographics data has similar meaning behind missing data patterns as the general demographics data.)\n",
    "- Use the sklearn objects from the general demographics data, and apply their transformations to the customers data. That is, you should not be using a `.fit()` or `.fit_transform()` method to re-fit the old objects, nor should you be creating new sklearn objects! Carry the data through the feature scaling, PCA, and clustering steps, obtaining cluster assignments for all of the data in the customer demographics data."
   ]
  },
  {
   "cell_type": "markdown",
   "metadata": {},
   "source": [
    "`Udacity_CUSTOMERS_Subset.csv`: Demographics data for customers of a mail-order company; 191652 persons (rows) x 85 features (columns)."
   ]
  },
  {
   "cell_type": "code",
   "execution_count": null,
   "metadata": {},
   "outputs": [],
   "source": [
    "# Load in the customer demographics data.\n",
    "customers = pd.read_csv('Udacity_CUSTOMERS_Subset.csv',sep = ';')\n",
    "customers.head(2)"
   ]
  },
  {
   "cell_type": "code",
   "execution_count": null,
   "metadata": {},
   "outputs": [],
   "source": [
    "#customers = customers.reindex(columns=columns)\n",
    "#customers.CAMEO_INTL_2015.value_counts()\n",
    "# CAMEO_DEU_2015' 'CAMEO_INTL_201"
   ]
  },
  {
   "cell_type": "code",
   "execution_count": null,
   "metadata": {},
   "outputs": [],
   "source": [
    "customers.CAMEO_DEU_2015.head(2)"
   ]
  },
  {
   "cell_type": "code",
   "execution_count": null,
   "metadata": {},
   "outputs": [],
   "source": [
    "customers.CAMEO_INTL_2015.head(2)"
   ]
  },
  {
   "cell_type": "code",
   "execution_count": null,
   "metadata": {},
   "outputs": [],
   "source": [
    "#df['Address'] = address \n",
    "# combiend_df = pd.concat([df1, df2[['column_a', 'column_b']]], axis=1) \n",
    "\n",
    "#add = ['CAMEO_DEU_2015', 'CAMEO_INTL_2015']\n",
    "\n",
    "#customers = pd.concat([customers,customers[['CAMEO_DEU_2015', 'CAMEO_INTL_2015']] ], axis = 1)"
   ]
  },
  {
   "cell_type": "code",
   "execution_count": null,
   "metadata": {},
   "outputs": [],
   "source": [
    "columns = ['AGER_TYP',                \n",
    "'ALTERSKATEGORIE_GROB', 'ANREDE_KZ', 'CJT_GESAMTTYP',  'FINANZ_MINIMALIST', 'FINANZ_SPARER', 'FINANZ_VORSORGER',        \n",
    "'FINANZ_ANLEGER',  'FINANZ_UNAUFFAELLIGER',   'FINANZ_HAUSBAUER',        \n",
    "'FINANZTYP',    'GEBURTSJAHR',      'GFK_URLAUBERTYP',         \n",
    "'GREEN_AVANTGARDE', 'HEALTH_TYP',   'LP_LEBENSPHASE_FEIN',     \n",
    "'LP_LEBENSPHASE_GROB',     'LP_FAMILIE_FEIN',  'LP_FAMILIE_GROB',         \n",
    "'LP_STATUS_FEIN',  'LP_STATUS_GROB','NATIONALITAET_KZ',        \n",
    "'PRAEGENDE_JUGENDJAHRE','RETOURTYP_BK_S',  'SEMIO_SOZ', 'SEMIO_FAM',               \n",
    "'SEMIO_REL',               \n",
    "'SEMIO_MAT',               \n",
    "'SEMIO_VERT',              \n",
    "'SEMIO_LUST',              \n",
    "'SEMIO_ERL',               \n",
    "'SEMIO_KULT',              \n",
    "'SEMIO_RAT',               \n",
    "'SEMIO_KRIT',              \n",
    "'SEMIO_DOM',               \n",
    "'SEMIO_KAEM',              \n",
    "'SEMIO_PFLICHT',           \n",
    "'SEMIO_TRADV',             \n",
    "'SHOPPER_TYP',             \n",
    "'SOHO_KZ',                 \n",
    "'TITEL_KZ',                \n",
    "'VERS_TYP',                \n",
    "'ZABEOTYP',                \n",
    "'ALTER_HH',                \n",
    "'ANZ_PERSONEN',            \n",
    "'ANZ_TITEL',               \n",
    "'HH_EINKOMMEN_SCORE',      'KK_KUNDENTYP',            \n",
    "'W_KEIT_KIND_HH',          'WOHNDAUER_2008',          \n",
    "'ANZ_HAUSHALTE_AKTIV',     'ANZ_HH_TITEL',            \n",
    "'GEBAEUDETYP',             'KONSUMNAEHE',             \n",
    "'MIN_GEBAEUDEJAHR',        'OST_WEST_KZ',             \n",
    "'WOHNLAGE',                'CAMEO_DEUG_2015',         \n",
    "'CAMEO_DEU_2015',          'CAMEO_INTL_2015',\n",
    "'KBA05_ANTG1',             'KBA05_ANTG2',\n",
    "'KBA05_ANTG3',             'KBA05_ANTG4',\n",
    "'KBA05_BAUMAX',            'KBA05_GBZ',\n",
    "'BALLRAUM',\n",
    "'EWDICHTE',                'INNENSTADT',\n",
    "'GEBAEUDETYP_RASTER',      'KKK',                     \n",
    "'MOBI_REGIO',              'ONLINE_AFFINITAET',       \n",
    "'REGIOTYP','KBA13_ANZAHL_PKW','PLZ8_ANTG1','PLZ8_ANTG2','PLZ8_ANTG3', 'PLZ8_ANTG4','PLZ8_BAUMAX', 'PLZ8_HHZ',                \n",
    "'PLZ8_GBZ','ARBEIT','ORTSGR_KLS9','RELAT_AB']\n",
    "\n",
    "start = time()\n",
    "\n",
    "customer_clean = clean_data(customers)\n",
    "\n",
    "end = time()\n",
    "print('Time for Cleanning the Cusomter data is ' + str(end - start))"
   ]
  },
  {
   "cell_type": "code",
   "execution_count": null,
   "metadata": {},
   "outputs": [],
   "source": [
    "pca = PCA(n_components = 10)\n",
    "pca_azdias = pca.fit_transform(customer_clean)"
   ]
  },
  {
   "cell_type": "code",
   "execution_count": null,
   "metadata": {},
   "outputs": [],
   "source": [
    "# Apply preprocessing, feature transformation, and clustering from the general\n",
    "# demographics onto the customer data, obtaining cluster predictions for the\n",
    "# customer demographics data.\n",
    "\n",
    "kmean = KMeans(n_clusters = 8)\n",
    "\n",
    "pred_gen_dem_kmeans = kmean.fit_predict(customer_clean)"
   ]
  },
  {
   "cell_type": "code",
   "execution_count": null,
   "metadata": {},
   "outputs": [],
   "source": [
    "cluster_customer = pd.DataFrame({'cluster':pd.Series(pred_gen_dem_kmeans).value_counts().index, \n",
    "                    'percetage_of_data': 100 * pd.Series(pred_gen_dem_kmeans).value_counts().values / len (pred_gen_dem_kmeans),\n",
    "                    'customer_proprotion':      pd.Series(pred_gen_dem_kmeans).value_counts().index / len (pred_gen_dem_kmeans)\n",
    "                                }            \n",
    "                               )\n",
    "cluster_customer['data'] = 'customer'"
   ]
  },
  {
   "cell_type": "code",
   "execution_count": null,
   "metadata": {},
   "outputs": [],
   "source": [
    "type(cluster_customer), cluster_customer.head(2)"
   ]
  },
  {
   "cell_type": "markdown",
   "metadata": {},
   "source": [
    "### Step 3.3: Compare Customer Data to Demographics Data\n",
    "\n",
    "At this point, you have clustered data based on demographics of the general population of Germany, and seen how the customer data for a mail-order sales company maps onto those demographic clusters. In this final substep, you will compare the two cluster distributions to see where the strongest customer base for the company is.\n",
    "\n",
    "Consider the proportion of persons in each cluster for the general population, and the proportions for the customers. If we think the company's customer base to be universal, then the cluster assignment proportions should be fairly similar between the two. If there are only particular segments of the population that are interested in the company's products, then we should see a mismatch from one to the other. If there is a higher proportion of persons in a cluster for the customer data compared to the general population (e.g. 5% of persons are assigned to a cluster for the general population, but 15% of the customer data is closest to that cluster's centroid) then that suggests the people in that cluster to be a target audience for the company. On the other hand, the proportion of the data in a cluster being larger in the general population than the customer data (e.g. only 2% of customers closest to a population centroid that captures 6% of the data) suggests that group of persons to be outside of the target demographics.\n",
    "\n",
    "Take a look at the following points in this step:\n",
    "\n",
    "- Compute the proportion of data points in each cluster for the general population and the customer data. Visualizations will be useful here: both for the individual dataset proportions, but also to visualize the ratios in cluster representation between groups. Seaborn's [`countplot()`](https://seaborn.pydata.org/generated/seaborn.countplot.html) or [`barplot()`](https://seaborn.pydata.org/generated/seaborn.barplot.html) function could be handy.\n",
    "  - Recall the analysis you performed in step 1.1.3 of the project, where you separated out certain data points from the dataset if they had more than a specified threshold of missing values. If you found that this group was qualitatively different from the main bulk of the data, you should treat this as an additional data cluster in this analysis. Make sure that you account for the number of data points in this subset, for both the general population and customer datasets, when making your computations!\n",
    "- Which cluster or clusters are overrepresented in the customer dataset compared to the general population? Select at least one such cluster and infer what kind of people might be represented by that cluster. Use the principal component interpretations from step 2.3 or look at additional components to help you make this inference. Alternatively, you can use the `.inverse_transform()` method of the PCA and StandardScaler objects to transform centroids back to the original data space and interpret the retrieved values directly.\n",
    "- Perform a similar investigation for the underrepresented clusters. Which cluster or clusters are underrepresented in the customer dataset compared to the general population, and what kinds of people are typified by these clusters?"
   ]
  },
  {
   "cell_type": "code",
   "execution_count": null,
   "metadata": {
    "scrolled": true
   },
   "outputs": [],
   "source": [
    "#pd.merge(left, right, how='inner', on=None, left_on=None, right_on=None,\n",
    "#         left_index=False, right_index=False, sort=True,\n",
    "#         suffixes=('_x', '_y'), copy=True, indicator=False,\n",
    "#         validate=None)\n",
    "\n",
    "# create data set to summarize\n",
    "data = pd.merge(cluster_customer,cluster_azdias, how = 'outer', sort = True)\n",
    "\n",
    "# df['DataFrame Column'] = df['DataFrame Column'].fillna(0)\n",
    "data.customer_proprotion = data.customer_proprotion.fillna(-1)\n",
    "data.population_proprotion = data.population_proprotion.fillna(-1)\n",
    "\n",
    "\n",
    "data.head(7)\n"
   ]
  },
  {
   "cell_type": "code",
   "execution_count": null,
   "metadata": {},
   "outputs": [],
   "source": [
    "#h ttps://datavizpyr.com/sort-bars-in-barplot-using-seaborn-in-python/\n",
    "# Compare the proportion of data in each cluster for the customer data to the\n",
    "# proportion of data in each cluster for the general population.\n",
    "# Part I\n",
    "plt.figure(figsize = (20,10))\n",
    "sns.barplot(x = 'cluster', y = 'percetage_of_data', hue = 'data', data = data,\n",
    "           order = data.cluster)\n",
    "plt.ylabel('Percetage of data')\n",
    "plt.xlabel('Proportion of Individaul in Cluster')\n",
    "plt.show();"
   ]
  },
  {
   "cell_type": "code",
   "execution_count": null,
   "metadata": {},
   "outputs": [],
   "source": [
    "# Reference\n",
    "#https://www.tutorialspoint.com/matplotlib/matplotlib_bar_plot.htm#:~:text=A%20bar%20chart%20or%20bar,the%20values%20that%20they%20represent.&text=The%20function%20makes%20a%20bar,bottom%3B%20bottom%20%2B%20height).\n",
    "\n",
    "# Part II\n",
    "\n",
    "data.plot.bar(x = 'cluster', y = ['customer_proprotion', 'population_proprotion'], figsize = (12,10))\n",
    "plt.title('General Population vs. Customer Poplution')\n",
    "plt.xlabel('Number of Cluster')\n",
    "plt.ylabel('Proportion of Individaul in Cluster')\n",
    "plt.show()"
   ]
  },
  {
   "cell_type": "code",
   "execution_count": null,
   "metadata": {},
   "outputs": [],
   "source": [
    "# What kinds of people are part of a cluster that is overrepresented in the\n",
    "# customer data compared to the general population?\n",
    "\n",
    "# As show in the the chart above, there are no observation shown that customer was overrepresented.\n",
    "## However, if we see the bar char above, cluster 4 was shown overrepresented.\n"
   ]
  },
  {
   "cell_type": "code",
   "execution_count": null,
   "metadata": {},
   "outputs": [],
   "source": [
    "# What kinds of people are part of a cluster that is underrepresented in the\n",
    "# customer data compared to the general population?\n",
    "\n",
    "# # As show in the the chart above, there are no observation shown that customer was underrepresented.\n",
    "## However, if we see the bar char above, cluster 2 was shown underrepresented."
   ]
  },
  {
   "cell_type": "markdown",
   "metadata": {},
   "source": [
    "### Discussion 3.3: Compare Customer Data to Demographics Data\n",
    "\n",
    "I compared the poplution cluster and customer poplution to help the company make descision."
   ]
  },
  {
   "cell_type": "markdown",
   "metadata": {},
   "source": [
    "> Congratulations on making it this far in the project! Before you finish, make sure to check through the entire notebook from top to bottom to make sure that your analysis follows a logical flow and all of your findings are documented in **Discussion** cells. Once you've checked over all of your work, you should export the notebook as an HTML document to submit for evaluation. You can do this from the menu, navigating to **File -> Download as -> HTML (.html)**. You will submit both that document and this notebook for your project submission."
   ]
  },
  {
   "cell_type": "code",
   "execution_count": null,
   "metadata": {},
   "outputs": [],
   "source": []
  }
 ],
 "metadata": {
  "kernelspec": {
   "display_name": "Python 3",
   "language": "python",
   "name": "python3"
  },
  "language_info": {
   "codemirror_mode": {
    "name": "ipython",
    "version": 3
   },
   "file_extension": ".py",
   "mimetype": "text/x-python",
   "name": "python",
   "nbconvert_exporter": "python",
   "pygments_lexer": "ipython3",
   "version": "3.7.6"
  }
 },
 "nbformat": 4,
 "nbformat_minor": 2
}
